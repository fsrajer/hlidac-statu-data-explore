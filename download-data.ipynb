{
 "cells": [
  {
   "cell_type": "code",
   "execution_count": null,
   "metadata": {
    "ExecuteTime": {
     "end_time": "2018-01-27T12:55:32.184978Z",
     "start_time": "2018-01-27T12:55:28.507329Z"
    },
    "collapsed": true
   },
   "outputs": [],
   "source": [
    "import pandas as pd\n",
    "import urllib"
   ]
  },
  {
   "cell_type": "markdown",
   "metadata": {},
   "source": [
    "Get list of files"
   ]
  },
  {
   "cell_type": "code",
   "execution_count": null,
   "metadata": {
    "ExecuteTime": {
     "end_time": "2018-01-27T12:58:48.670103Z",
     "start_time": "2018-01-27T12:58:48.594019Z"
    },
    "collapsed": true
   },
   "outputs": [],
   "source": [
    "data_dir = \"data/smlouvy.gov.cz\"\n",
    "index_url = \"https://data.smlouvy.gov.cz/index.xml\"\n",
    "index_fn = f\"{data_dir}/index.xml\"\n",
    "urllib.request.urlretrieve(index_url, index_fn);"
   ]
  }
 ],
 "metadata": {
  "kernelspec": {
   "display_name": "Python 3",
   "language": "python",
   "name": "python3"
  },
  "language_info": {
   "codemirror_mode": {
    "name": "ipython",
    "version": 3
   },
   "file_extension": ".py",
   "mimetype": "text/x-python",
   "name": "python",
   "nbconvert_exporter": "python",
   "pygments_lexer": "ipython3",
   "version": "3.6.3"
  }
 },
 "nbformat": 4,
 "nbformat_minor": 2
}
