{
 "cells": [
  {
   "cell_type": "code",
   "execution_count": 1,
   "metadata": {
    "ExecuteTime": {
     "end_time": "2018-02-04T09:51:39.081076Z",
     "start_time": "2018-02-04T09:51:33.161785Z"
    },
    "collapsed": true
   },
   "outputs": [],
   "source": [
    "%matplotlib inline\n",
    "import numpy as np\n",
    "import pandas as pd\n",
    "import json\n",
    "import dask.bag as db\n",
    "from dask.distributed import Client\n",
    "client = Client()\n",
    "# check status at: http://localhost:8787/status"
   ]
  },
  {
   "cell_type": "code",
   "execution_count": 2,
   "metadata": {
    "ExecuteTime": {
     "end_time": "2018-02-04T09:51:39.089583Z",
     "start_time": "2018-02-04T09:51:39.084079Z"
    },
    "collapsed": true
   },
   "outputs": [],
   "source": [
    "base_fn = \"smlouvy\"\n",
    "# base_fn = \"smlouvy-2018-01-26\"\n",
    "\n",
    "data_base_fn = f\"data/hlidac/{base_fn}_lines_*.txt.gz\""
   ]
  },
  {
   "cell_type": "code",
   "execution_count": 3,
   "metadata": {
    "ExecuteTime": {
     "end_time": "2018-02-04T09:51:39.312610Z",
     "start_time": "2018-02-04T09:51:39.094569Z"
    }
   },
   "outputs": [
    {
     "data": {
      "text/plain": [
       "dict_keys(['identifikator', 'schvalil', 'hodnotaBezDph', 'hodnotaVcetneDph', 'ciziMena', 'platnyZaznam', 'PravniRamec', 'Prilohy', 'LastUpdate', 'CalculatedPriceWithVATinCZK', 'CalcutatedPriceQuality', 'Issues', 'Enhancements', 'ConfidenceValue', 'Id', 'odkaz', 'casZverejneni', 'VkladatelDoRejstriku', 'Platce', 'Prijemce', 'predmet', 'datumUzavreni', 'cisloSmlouvy', 'navazanyZaznam', 'souvisejiciSmlouvy'])"
      ]
     },
     "execution_count": 3,
     "metadata": {},
     "output_type": "execute_result"
    }
   ],
   "source": [
    "lines = db.read_text(data_base_fn)\n",
    "lines.map(json.loads).take(1)[0].keys()"
   ]
  },
  {
   "cell_type": "code",
   "execution_count": 4,
   "metadata": {
    "ExecuteTime": {
     "end_time": "2018-02-04T09:51:39.378593Z",
     "start_time": "2018-02-04T09:51:39.315125Z"
    },
    "collapsed": true
   },
   "outputs": [],
   "source": [
    "a = lines.map(json.loads).take(1)[0]"
   ]
  },
  {
   "cell_type": "code",
   "execution_count": 5,
   "metadata": {
    "ExecuteTime": {
     "end_time": "2018-02-04T09:51:39.475544Z",
     "start_time": "2018-02-04T09:51:39.380596Z"
    }
   },
   "outputs": [
    {
     "data": {
      "text/plain": [
       "{'CalculatedPriceWithVATinCZK': 59146,\n",
       " 'CalcutatedPriceQuality': 1,\n",
       " 'ConfidenceValue': 0,\n",
       " 'Enhancements': [{'Changed': {'NewValue': '',\n",
       "    'ParameterName': 'item.Prilohy[0].PlainTextContent',\n",
       "    'PreviousValue': ''},\n",
       "   'Created': '2016-11-05T21:51:50.3052753+01:00',\n",
       "   'Description': '',\n",
       "   'EnhancerType': 'HlidacSmluv.Plugin.Enhancers.TextMiner',\n",
       "   'Public': True,\n",
       "   'Title': 'Text přílohy extrahován přímé z dokumentu'}],\n",
       " 'Id': '112125',\n",
       " 'Issues': [],\n",
       " 'LastUpdate': '2017-07-05T08:44:03.0477241+02:00',\n",
       " 'Platce': {'adresa': 'Těšínská 1349/296 71600 Ostrava-Radvanice',\n",
       "  'datovaSchranka': 'mfecgmh',\n",
       "  'ico': '19010290',\n",
       "  'nazev': 'Pharmos,a.s.Ostrava',\n",
       "  'utvar': 'Obchodní oddělení'},\n",
       " 'PravniRamec': 1,\n",
       " 'Prijemce': [{'adresa': 'Šrobárova 1150/50, 10034 Praha 10, CZ',\n",
       "   'datovaSchranka': 'zizdbpb',\n",
       "   'ico': '00064173',\n",
       "   'nazev': 'Fakultní nemocnice Královské Vinohrady',\n",
       "   'utvar': None}],\n",
       " 'Prilohy': [{'ContentType': 'text/plain; charset=windows-1252',\n",
       "   'DatlClassification': None,\n",
       "   'EnoughExtractedText': True,\n",
       "   'FileMetadata': None,\n",
       "   'LastUpdate': '2016-11-05T21:51:50.3052753+01:00',\n",
       "   'Lenght': 1916,\n",
       "   'LocalCopy': None,\n",
       "   'Pages': 0,\n",
       "   'PlainTextContent': '\\r\\n\\r\\n\\r\\n\\r\\n\\r\\n\\r\\n\\r\\n\\r\\n\\r\\n \\r\\r\\n                                  O B J E D N Á V K A                                        \\r\\r\\n\\r\\r\\n_________________________________________________________________________________________________________\\r\\r\\n \\r\\r\\n  Odbìratel:                                        Dodavatel:                                        \\r\\r\\n                                                    Pharmos,a.s.Ostrava                               \\r\\r\\n                                                    Tìšínská 1349/296                                 \\r\\r\\n                                                    71600 Ostrava-Radvanice                           \\r\\r\\n  IÈO:                                              IÈO: 19010290                                     \\r\\r\\n  DIÈ:                                              DIÈ: CZ19010290                                   \\r\\r\\n \\r\\r\\n  Bankovní spojení:                                                                                   \\r\\r\\n  Èíslo úètu:                                       Datum obj: 12.07.2016                             \\r\\r\\n_________________________________________________________________________________________________________\\r\\r\\n \\r\\r\\n  Objednávka èíslo: LEK-514816                      Urèeno pro: Výdej pro nemocnici                   \\r\\r\\n_________________________________________________________________________________________________________\\r\\r\\n \\r\\r\\n Název+Popis                                    Katalog. è.            Poèet MJ    \\r\\r\\n Remestyp 1.0, inj sol 5x10ml/1mg                                         11       \\r\\r\\n Tracrium 50, inj 5x5ml/50mg                                              67       \\r\\r\\n_________________________________________________________________________________________________________\\r\\r\\n Celkem bez dane:                                          53 769,25\\r\\r\\n Celkem s daní  :                                          59 146,00\\r\\r\\n\\r\\n',\n",
       "   'PlainTextContentQuality': 3,\n",
       "   'WordCount': 69,\n",
       "   'data': None,\n",
       "   'hash': {'Value': '5c6c1a4ecaee5af3b0cd1598308630410d482bf412db13d6b78ffebb147888ad',\n",
       "    'algoritmus': 'sha256'},\n",
       "   'nazevSouboru': 'OBJ514816.txt',\n",
       "   'odkaz': 'https://smlouvy.gov.cz/smlouva/soubor/150853/OBJ514816.txt'}],\n",
       " 'VkladatelDoRejstriku': {'adresa': 'Šrobárova 1150/50, 10034 Praha 10, CZ',\n",
       "  'datovaSchranka': 'zizdbpb',\n",
       "  'ico': '00064173',\n",
       "  'nazev': 'Fakultní nemocnice Královské Vinohrady',\n",
       "  'utvar': None},\n",
       " 'casZverejneni': '2016-08-18T11:48:56+02:00',\n",
       " 'cisloSmlouvy': 'LEK-514816',\n",
       " 'ciziMena': None,\n",
       " 'datumUzavreni': '2016-07-12T00:00:00',\n",
       " 'hodnotaBezDph': 53769.25,\n",
       " 'hodnotaVcetneDph': 59146,\n",
       " 'identifikator': {'idSmlouvy': '105905', 'idVerze': '112125'},\n",
       " 'navazanyZaznam': None,\n",
       " 'odkaz': 'https://smlouvy.gov.cz/smlouva/112125',\n",
       " 'platnyZaznam': True,\n",
       " 'predmet': 'Dodávky léků',\n",
       " 'schvalil': None,\n",
       " 'souvisejiciSmlouvy': None}"
      ]
     },
     "execution_count": 5,
     "metadata": {},
     "output_type": "execute_result"
    }
   ],
   "source": [
    "a"
   ]
  },
  {
   "cell_type": "code",
   "execution_count": 6,
   "metadata": {
    "ExecuteTime": {
     "end_time": "2018-02-04T09:51:51.939167Z",
     "start_time": "2018-02-04T09:51:51.928172Z"
    },
    "collapsed": true
   },
   "outputs": [],
   "source": [
    "# Enhancements, ConfidenceValue, Issues, Platce, Prijemce, PravniRamec, Prilohy, VkladatelDoRejstriku, ciziMena, platnyZaznam, navazanyZaznam, schvalil, souvisejiciSmlouvy\n",
    "def extract_fields(contract):\n",
    "    return (contract['Id'], contract['CalculatedPriceWithVATinCZK'], contract['CalcutatedPriceQuality'], \n",
    "            contract['hodnotaBezDph'], contract['hodnotaVcetneDph'], \n",
    "            contract['casZverejneni'], contract['datumUzavreni'],\n",
    "            contract['platnyZaznam'], contract['navazanyZaznam'])\n",
    "columns = [('Id', np.object), \n",
    "           ('CalculatedPriceWithVATinCZK', np.float64),\n",
    "           ('CalcutatedPriceQuality', np.float64),\n",
    "           ('hodnotaBezDph', np.float64),\n",
    "           ('hodnotaVcetneDph', np.float64),\n",
    "           ('casZverejneni', np.object),\n",
    "           ('datumUzavreni', np.object),\n",
    "           ('platnyZaznam', np.bool),\n",
    "           ('navazanyZaznam', np.object)]"
   ]
  },
  {
   "cell_type": "code",
   "execution_count": 7,
   "metadata": {
    "ExecuteTime": {
     "end_time": "2018-02-04T09:51:53.514875Z",
     "start_time": "2018-02-04T09:51:53.377604Z"
    }
   },
   "outputs": [
    {
     "data": {
      "text/html": [
       "<div><strong>Dask DataFrame Structure:</strong></div>\n",
       "<div>\n",
       "<style>\n",
       "    .dataframe thead tr:only-child th {\n",
       "        text-align: right;\n",
       "    }\n",
       "\n",
       "    .dataframe thead th {\n",
       "        text-align: left;\n",
       "    }\n",
       "\n",
       "    .dataframe tbody tr th {\n",
       "        vertical-align: top;\n",
       "    }\n",
       "</style>\n",
       "<table border=\"1\" class=\"dataframe\">\n",
       "  <thead>\n",
       "    <tr style=\"text-align: right;\">\n",
       "      <th></th>\n",
       "      <th>Id</th>\n",
       "      <th>CalculatedPriceWithVATinCZK</th>\n",
       "      <th>CalcutatedPriceQuality</th>\n",
       "      <th>hodnotaBezDph</th>\n",
       "      <th>hodnotaVcetneDph</th>\n",
       "      <th>casZverejneni</th>\n",
       "      <th>datumUzavreni</th>\n",
       "      <th>platnyZaznam</th>\n",
       "      <th>navazanyZaznam</th>\n",
       "    </tr>\n",
       "    <tr>\n",
       "      <th>npartitions=105</th>\n",
       "      <th></th>\n",
       "      <th></th>\n",
       "      <th></th>\n",
       "      <th></th>\n",
       "      <th></th>\n",
       "      <th></th>\n",
       "      <th></th>\n",
       "      <th></th>\n",
       "      <th></th>\n",
       "    </tr>\n",
       "  </thead>\n",
       "  <tbody>\n",
       "    <tr>\n",
       "      <th></th>\n",
       "      <td>object</td>\n",
       "      <td>float64</td>\n",
       "      <td>float64</td>\n",
       "      <td>float64</td>\n",
       "      <td>float64</td>\n",
       "      <td>object</td>\n",
       "      <td>object</td>\n",
       "      <td>bool</td>\n",
       "      <td>object</td>\n",
       "    </tr>\n",
       "    <tr>\n",
       "      <th></th>\n",
       "      <td>...</td>\n",
       "      <td>...</td>\n",
       "      <td>...</td>\n",
       "      <td>...</td>\n",
       "      <td>...</td>\n",
       "      <td>...</td>\n",
       "      <td>...</td>\n",
       "      <td>...</td>\n",
       "      <td>...</td>\n",
       "    </tr>\n",
       "    <tr>\n",
       "      <th>...</th>\n",
       "      <td>...</td>\n",
       "      <td>...</td>\n",
       "      <td>...</td>\n",
       "      <td>...</td>\n",
       "      <td>...</td>\n",
       "      <td>...</td>\n",
       "      <td>...</td>\n",
       "      <td>...</td>\n",
       "      <td>...</td>\n",
       "    </tr>\n",
       "    <tr>\n",
       "      <th></th>\n",
       "      <td>...</td>\n",
       "      <td>...</td>\n",
       "      <td>...</td>\n",
       "      <td>...</td>\n",
       "      <td>...</td>\n",
       "      <td>...</td>\n",
       "      <td>...</td>\n",
       "      <td>...</td>\n",
       "      <td>...</td>\n",
       "    </tr>\n",
       "    <tr>\n",
       "      <th></th>\n",
       "      <td>...</td>\n",
       "      <td>...</td>\n",
       "      <td>...</td>\n",
       "      <td>...</td>\n",
       "      <td>...</td>\n",
       "      <td>...</td>\n",
       "      <td>...</td>\n",
       "      <td>...</td>\n",
       "      <td>...</td>\n",
       "    </tr>\n",
       "  </tbody>\n",
       "</table>\n",
       "</div>\n",
       "<div>Dask Name: to_dataframe, 315 tasks</div>"
      ],
      "text/plain": [
       "Dask DataFrame Structure:\n",
       "                     Id CalculatedPriceWithVATinCZK CalcutatedPriceQuality hodnotaBezDph hodnotaVcetneDph casZverejneni datumUzavreni platnyZaznam navazanyZaznam\n",
       "npartitions=105                                                                                                                                                  \n",
       "                 object                     float64                float64       float64          float64        object        object         bool         object\n",
       "                    ...                         ...                    ...           ...              ...           ...           ...          ...            ...\n",
       "...                 ...                         ...                    ...           ...              ...           ...           ...          ...            ...\n",
       "                    ...                         ...                    ...           ...              ...           ...           ...          ...            ...\n",
       "                    ...                         ...                    ...           ...              ...           ...           ...          ...            ...\n",
       "Dask Name: to_dataframe, 315 tasks"
      ]
     },
     "execution_count": 7,
     "metadata": {},
     "output_type": "execute_result"
    }
   ],
   "source": [
    "data = lines.map(json.loads).map(extract_fields)\n",
    "df_ = data.to_dataframe(columns)\n",
    "df_"
   ]
  },
  {
   "cell_type": "code",
   "execution_count": 8,
   "metadata": {
    "ExecuteTime": {
     "end_time": "2018-02-04T09:58:46.842848Z",
     "start_time": "2018-02-04T09:51:54.404353Z"
    }
   },
   "outputs": [
    {
     "data": {
      "text/html": [
       "<div>\n",
       "<style>\n",
       "    .dataframe thead tr:only-child th {\n",
       "        text-align: right;\n",
       "    }\n",
       "\n",
       "    .dataframe thead th {\n",
       "        text-align: left;\n",
       "    }\n",
       "\n",
       "    .dataframe tbody tr th {\n",
       "        vertical-align: top;\n",
       "    }\n",
       "</style>\n",
       "<table border=\"1\" class=\"dataframe\">\n",
       "  <thead>\n",
       "    <tr style=\"text-align: right;\">\n",
       "      <th></th>\n",
       "      <th>Id</th>\n",
       "      <th>CalculatedPriceWithVATinCZK</th>\n",
       "      <th>CalcutatedPriceQuality</th>\n",
       "      <th>hodnotaBezDph</th>\n",
       "      <th>hodnotaVcetneDph</th>\n",
       "      <th>casZverejneni</th>\n",
       "      <th>datumUzavreni</th>\n",
       "      <th>platnyZaznam</th>\n",
       "      <th>navazanyZaznam</th>\n",
       "    </tr>\n",
       "  </thead>\n",
       "  <tbody>\n",
       "    <tr>\n",
       "      <th>0</th>\n",
       "      <td>112125</td>\n",
       "      <td>59146.0</td>\n",
       "      <td>1.0</td>\n",
       "      <td>53769.25</td>\n",
       "      <td>59146.0</td>\n",
       "      <td>2016-08-18T11:48:56+02:00</td>\n",
       "      <td>2016-07-12T00:00:00</td>\n",
       "      <td>True</td>\n",
       "      <td>None</td>\n",
       "    </tr>\n",
       "    <tr>\n",
       "      <th>1</th>\n",
       "      <td>408857</td>\n",
       "      <td>536042.1</td>\n",
       "      <td>2.0</td>\n",
       "      <td>443010.00</td>\n",
       "      <td>NaN</td>\n",
       "      <td>2016-10-17T16:36:59+02:00</td>\n",
       "      <td>2016-10-17T00:00:00</td>\n",
       "      <td>True</td>\n",
       "      <td>None</td>\n",
       "    </tr>\n",
       "    <tr>\n",
       "      <th>2</th>\n",
       "      <td>1304117</td>\n",
       "      <td>26000.0</td>\n",
       "      <td>1.0</td>\n",
       "      <td>26000.00</td>\n",
       "      <td>26000.0</td>\n",
       "      <td>2017-02-22T09:38:37+01:00</td>\n",
       "      <td>2017-02-15T00:00:00</td>\n",
       "      <td>True</td>\n",
       "      <td>None</td>\n",
       "    </tr>\n",
       "    <tr>\n",
       "      <th>3</th>\n",
       "      <td>3107846</td>\n",
       "      <td>152738.3</td>\n",
       "      <td>2.0</td>\n",
       "      <td>126230.00</td>\n",
       "      <td>NaN</td>\n",
       "      <td>2017-09-11T09:53:50+02:00</td>\n",
       "      <td>2011-01-10T00:00:00</td>\n",
       "      <td>True</td>\n",
       "      <td>None</td>\n",
       "    </tr>\n",
       "    <tr>\n",
       "      <th>4</th>\n",
       "      <td>287073</td>\n",
       "      <td>363000.0</td>\n",
       "      <td>2.0</td>\n",
       "      <td>300000.00</td>\n",
       "      <td>NaN</td>\n",
       "      <td>2016-09-23T12:42:36+02:00</td>\n",
       "      <td>2016-09-20T00:00:00</td>\n",
       "      <td>True</td>\n",
       "      <td>None</td>\n",
       "    </tr>\n",
       "  </tbody>\n",
       "</table>\n",
       "</div>"
      ],
      "text/plain": [
       "        Id  CalculatedPriceWithVATinCZK  CalcutatedPriceQuality  \\\n",
       "0   112125                      59146.0                     1.0   \n",
       "1   408857                     536042.1                     2.0   \n",
       "2  1304117                      26000.0                     1.0   \n",
       "3  3107846                     152738.3                     2.0   \n",
       "4   287073                     363000.0                     2.0   \n",
       "\n",
       "   hodnotaBezDph  hodnotaVcetneDph              casZverejneni  \\\n",
       "0       53769.25           59146.0  2016-08-18T11:48:56+02:00   \n",
       "1      443010.00               NaN  2016-10-17T16:36:59+02:00   \n",
       "2       26000.00           26000.0  2017-02-22T09:38:37+01:00   \n",
       "3      126230.00               NaN  2017-09-11T09:53:50+02:00   \n",
       "4      300000.00               NaN  2016-09-23T12:42:36+02:00   \n",
       "\n",
       "         datumUzavreni  platnyZaznam navazanyZaznam  \n",
       "0  2016-07-12T00:00:00          True           None  \n",
       "1  2016-10-17T00:00:00          True           None  \n",
       "2  2017-02-15T00:00:00          True           None  \n",
       "3  2011-01-10T00:00:00          True           None  \n",
       "4  2016-09-20T00:00:00          True           None  "
      ]
     },
     "execution_count": 8,
     "metadata": {},
     "output_type": "execute_result"
    }
   ],
   "source": [
    "df = df_.compute()\n",
    "df.head()"
   ]
  },
  {
   "cell_type": "code",
   "execution_count": 9,
   "metadata": {
    "ExecuteTime": {
     "end_time": "2018-02-04T09:59:30.393087Z",
     "start_time": "2018-02-04T09:59:29.962196Z"
    },
    "collapsed": true
   },
   "outputs": [],
   "source": [
    "df = df.set_index('Id')"
   ]
  },
  {
   "cell_type": "code",
   "execution_count": 11,
   "metadata": {
    "ExecuteTime": {
     "end_time": "2018-02-04T09:59:40.904144Z",
     "start_time": "2018-02-04T09:59:40.896135Z"
    }
   },
   "outputs": [
    {
     "data": {
      "text/plain": [
       "1049566"
      ]
     },
     "execution_count": 11,
     "metadata": {},
     "output_type": "execute_result"
    }
   ],
   "source": [
    "len(df)"
   ]
  },
  {
   "cell_type": "code",
   "execution_count": 10,
   "metadata": {
    "ExecuteTime": {
     "end_time": "2018-02-04T09:59:38.374537Z",
     "start_time": "2018-02-04T09:59:38.092842Z"
    }
   },
   "outputs": [
    {
     "data": {
      "text/plain": [
       "CalculatedPriceWithVATinCZK         0\n",
       "CalcutatedPriceQuality              0\n",
       "hodnotaBezDph                  372132\n",
       "hodnotaVcetneDph               530585\n",
       "casZverejneni                       0\n",
       "datumUzavreni                       0\n",
       "platnyZaznam                        0\n",
       "navazanyZaznam                 966514\n",
       "dtype: int64"
      ]
     },
     "execution_count": 10,
     "metadata": {},
     "output_type": "execute_result"
    }
   ],
   "source": [
    "df.isnull().sum()"
   ]
  },
  {
   "cell_type": "code",
   "execution_count": 72,
   "metadata": {
    "ExecuteTime": {
     "end_time": "2018-02-04T10:30:35.147951Z",
     "start_time": "2018-02-04T10:30:35.118431Z"
    }
   },
   "outputs": [
    {
     "data": {
      "text/plain": [
       "True     1049522\n",
       "False         44\n",
       "Name: platnyZaznam, dtype: int64"
      ]
     },
     "execution_count": 72,
     "metadata": {},
     "output_type": "execute_result"
    }
   ],
   "source": [
    "df['platnyZaznam'].value_counts()"
   ]
  },
  {
   "cell_type": "markdown",
   "metadata": {},
   "source": [
    "### Prices"
   ]
  },
  {
   "cell_type": "code",
   "execution_count": 12,
   "metadata": {
    "ExecuteTime": {
     "end_time": "2018-02-04T10:01:12.645971Z",
     "start_time": "2018-02-04T10:01:12.425166Z"
    }
   },
   "outputs": [
    {
     "data": {
      "text/plain": [
       "1.0    514714\n",
       "2.0    315381\n",
       "0.0    219471\n",
       "Name: CalcutatedPriceQuality, dtype: int64"
      ]
     },
     "execution_count": 12,
     "metadata": {},
     "output_type": "execute_result"
    }
   ],
   "source": [
    "df['CalcutatedPriceQuality'].value_counts()"
   ]
  },
  {
   "cell_type": "code",
   "execution_count": 29,
   "metadata": {
    "ExecuteTime": {
     "end_time": "2018-02-04T10:07:17.687254Z",
     "start_time": "2018-02-04T10:07:17.651228Z"
    }
   },
   "outputs": [
    {
     "name": "stdout",
     "output_type": "stream",
     "text": [
      "original price not null\n"
     ]
    },
    {
     "data": {
      "text/plain": [
       "831300"
      ]
     },
     "execution_count": 29,
     "metadata": {},
     "output_type": "execute_result"
    }
   ],
   "source": [
    "print('original price not null')\n",
    "(df['hodnotaBezDph'].notnull() | df['hodnotaVcetneDph'].notnull()).sum()"
   ]
  },
  {
   "cell_type": "code",
   "execution_count": 31,
   "metadata": {
    "ExecuteTime": {
     "end_time": "2018-02-04T10:07:35.665249Z",
     "start_time": "2018-02-04T10:07:35.546115Z"
    }
   },
   "outputs": [
    {
     "name": "stdout",
     "output_type": "stream",
     "text": [
      "price with and without VAT known\n"
     ]
    },
    {
     "data": {
      "text/plain": [
       "360985"
      ]
     },
     "execution_count": 31,
     "metadata": {},
     "output_type": "execute_result"
    }
   ],
   "source": [
    "print('price with and without VAT known')\n",
    "both_known = df[df['hodnotaBezDph'].notnull() & df['hodnotaVcetneDph'].notnull() & (df['hodnotaVcetneDph'] > 0)]\n",
    "len(both_known)"
   ]
  },
  {
   "cell_type": "code",
   "execution_count": 39,
   "metadata": {
    "ExecuteTime": {
     "end_time": "2018-02-04T10:11:42.600957Z",
     "start_time": "2018-02-04T10:11:38.876138Z"
    }
   },
   "outputs": [
    {
     "data": {
      "text/plain": [
       "<matplotlib.axes._subplots.AxesSubplot at 0x1bc3dd9e710>"
      ]
     },
     "execution_count": 39,
     "metadata": {},
     "output_type": "execute_result"
    },
    {
     "data": {
      "image/png": "[encoded data removed]",
      "text/plain": [
       "<matplotlib.figure.Figure at 0x1bc3d87c438>"
      ]
     },
     "metadata": {},
     "output_type": "display_data"
    }
   ],
   "source": [
    "df['CalculatedPriceWithVATinCZK'].plot.box(showfliers=False)"
   ]
  },
  {
   "cell_type": "code",
   "execution_count": 42,
   "metadata": {
    "ExecuteTime": {
     "end_time": "2018-02-04T10:12:56.602937Z",
     "start_time": "2018-02-04T10:12:52.956165Z"
    }
   },
   "outputs": [
    {
     "data": {
      "text/plain": [
       "<matplotlib.axes._subplots.AxesSubplot at 0x1bc3f955b70>"
      ]
     },
     "execution_count": 42,
     "metadata": {},
     "output_type": "execute_result"
    },
    {
     "data": {
      "image/png": "[encoded data removed]",
      "text/plain": [
       "<matplotlib.figure.Figure at 0x1bc3f941b00>"
      ]
     },
     "metadata": {},
     "output_type": "display_data"
    }
   ],
   "source": [
    "df['hodnotaBezDph'].plot.box(showfliers=False)"
   ]
  },
  {
   "cell_type": "code",
   "execution_count": 43,
   "metadata": {
    "ExecuteTime": {
     "end_time": "2018-02-04T10:13:07.205561Z",
     "start_time": "2018-02-04T10:13:03.516776Z"
    }
   },
   "outputs": [
    {
     "data": {
      "text/plain": [
       "<matplotlib.axes._subplots.AxesSubplot at 0x1bc3e26c390>"
      ]
     },
     "execution_count": 43,
     "metadata": {},
     "output_type": "execute_result"
    },
    {
     "data": {
      "image/png": "[encoded data removed]",
      "text/plain": [
       "<matplotlib.figure.Figure at 0x1bc3f9417f0>"
      ]
     },
     "metadata": {},
     "output_type": "display_data"
    }
   ],
   "source": [
    "df['hodnotaVcetneDph'].plot.box(showfliers=False)"
   ]
  },
  {
   "cell_type": "code",
   "execution_count": 45,
   "metadata": {
    "ExecuteTime": {
     "end_time": "2018-02-04T10:14:01.727666Z",
     "start_time": "2018-02-04T10:14:00.362198Z"
    }
   },
   "outputs": [
    {
     "name": "stdout",
     "output_type": "stream",
     "text": [
      "VAT percentage\n"
     ]
    },
    {
     "data": {
      "text/plain": [
       "<matplotlib.axes._subplots.AxesSubplot at 0x1bc369e2400>"
      ]
     },
     "execution_count": 45,
     "metadata": {},
     "output_type": "execute_result"
    },
    {
     "data": {
      "image/png": "[encoded data removed]",
      "text/plain": [
       "<matplotlib.figure.Figure at 0x1bc369e0dd8>"
      ]
     },
     "metadata": {},
     "output_type": "display_data"
    }
   ],
   "source": [
    "print('VAT percentage')\n",
    "((both_known['hodnotaVcetneDph'] - both_known['hodnotaBezDph']) / both_known['hodnotaVcetneDph']).plot.box(showfliers=False)"
   ]
  },
  {
   "cell_type": "markdown",
   "metadata": {},
   "source": [
    "### Dates"
   ]
  },
  {
   "cell_type": "code",
   "execution_count": 52,
   "metadata": {
    "ExecuteTime": {
     "end_time": "2018-02-04T10:26:51.204270Z",
     "start_time": "2018-02-04T10:26:51.188763Z"
    }
   },
   "outputs": [],
   "source": [
    "df['casZverejneni'] = pd.to_datetime(df['casZverejneni'])\n",
    "# df['datumUzavreni'] = pd.to_datetime(df['datumUzavreni'])"
   ]
  },
  {
   "cell_type": "code",
   "execution_count": 53,
   "metadata": {
    "ExecuteTime": {
     "end_time": "2018-02-04T10:27:00.346922Z",
     "start_time": "2018-02-04T10:27:00.124769Z"
    }
   },
   "outputs": [
    {
     "data": {
      "text/plain": [
       "<matplotlib.axes._subplots.AxesSubplot at 0x1bc40032f60>"
      ]
     },
     "execution_count": 53,
     "metadata": {},
     "output_type": "execute_result"
    },
    {
     "data": {
      "image/png": "[encoded data removed]",
      "text/plain": [
       "<matplotlib.figure.Figure at 0x1bc40032898>"
      ]
     },
     "metadata": {},
     "output_type": "display_data"
    }
   ],
   "source": [
    "df['casZverejneni'].hist()"
   ]
  },
  {
   "cell_type": "markdown",
   "metadata": {},
   "source": [
    "## Next batch"
   ]
  },
  {
   "cell_type": "code",
   "execution_count": 84,
   "metadata": {
    "ExecuteTime": {
     "end_time": "2018-02-04T18:52:39.869821Z",
     "start_time": "2018-02-04T18:52:39.833794Z"
    }
   },
   "outputs": [
    {
     "data": {
      "text/plain": [
       "'Eva Měřínská'"
      ]
     },
     "execution_count": 84,
     "metadata": {},
     "output_type": "execute_result"
    }
   ],
   "source": [
    "lines.map(json.loads).take(10)[2]['schvalil']"
   ]
  },
  {
   "cell_type": "code",
   "execution_count": 86,
   "metadata": {
    "ExecuteTime": {
     "end_time": "2018-02-04T18:55:12.146784Z",
     "start_time": "2018-02-04T18:55:12.133773Z"
    },
    "collapsed": true
   },
   "outputs": [],
   "source": [
    "# PravniRamec, VkladatelDoRejstriku, schvalil, souvisejiciSmlouvy\n",
    "def extract_fields2(contract):\n",
    "    platce = contract['Platce']\n",
    "    n_enh = len(contract['Enhancements'])\n",
    "    n_iss = len(contract['Issues'])\n",
    "    n_prij = len(contract['Prijemce'])\n",
    "    n_pril = len(contract['Prilohy'])\n",
    "    return (platce['adresa'], platce['datovaSchranka'], platce['ico'], \n",
    "            platce['nazev'], contract['ConfidenceValue'], \n",
    "            n_enh, n_iss, n_prij, n_pril,\n",
    "            contract['ciziMena'], contract['schvalil'])\n",
    "columns2 = [('adresa', np.object), \n",
    "           ('datovaSchranka', np.object),\n",
    "           ('ico', np.object),\n",
    "           ('nazev', np.object),\n",
    "           ('ConfidenceValue', np.object),\n",
    "           ('n_enhancements', np.int),\n",
    "           ('n_issues', np.int),\n",
    "           ('n_prijemce', np.int),\n",
    "           ('n_priloha', np.int),\n",
    "           ('ciziMena', np.object),\n",
    "           ('schvalil', np.object)]"
   ]
  },
  {
   "cell_type": "code",
   "execution_count": 87,
   "metadata": {
    "ExecuteTime": {
     "end_time": "2018-02-04T18:55:14.807656Z",
     "start_time": "2018-02-04T18:55:14.762627Z"
    }
   },
   "outputs": [
    {
     "data": {
      "text/html": [
       "<div><strong>Dask DataFrame Structure:</strong></div>\n",
       "<div>\n",
       "<style>\n",
       "    .dataframe thead tr:only-child th {\n",
       "        text-align: right;\n",
       "    }\n",
       "\n",
       "    .dataframe thead th {\n",
       "        text-align: left;\n",
       "    }\n",
       "\n",
       "    .dataframe tbody tr th {\n",
       "        vertical-align: top;\n",
       "    }\n",
       "</style>\n",
       "<table border=\"1\" class=\"dataframe\">\n",
       "  <thead>\n",
       "    <tr style=\"text-align: right;\">\n",
       "      <th></th>\n",
       "      <th>adresa</th>\n",
       "      <th>datovaSchranka</th>\n",
       "      <th>ico</th>\n",
       "      <th>nazev</th>\n",
       "      <th>ConfidenceValue</th>\n",
       "      <th>n_enhancements</th>\n",
       "      <th>n_issues</th>\n",
       "      <th>n_prijemce</th>\n",
       "      <th>n_priloha</th>\n",
       "      <th>ciziMena</th>\n",
       "      <th>schvalil</th>\n",
       "    </tr>\n",
       "    <tr>\n",
       "      <th>npartitions=105</th>\n",
       "      <th></th>\n",
       "      <th></th>\n",
       "      <th></th>\n",
       "      <th></th>\n",
       "      <th></th>\n",
       "      <th></th>\n",
       "      <th></th>\n",
       "      <th></th>\n",
       "      <th></th>\n",
       "      <th></th>\n",
       "      <th></th>\n",
       "    </tr>\n",
       "  </thead>\n",
       "  <tbody>\n",
       "    <tr>\n",
       "      <th></th>\n",
       "      <td>object</td>\n",
       "      <td>object</td>\n",
       "      <td>object</td>\n",
       "      <td>object</td>\n",
       "      <td>object</td>\n",
       "      <td>int32</td>\n",
       "      <td>int32</td>\n",
       "      <td>int32</td>\n",
       "      <td>int32</td>\n",
       "      <td>object</td>\n",
       "      <td>object</td>\n",
       "    </tr>\n",
       "    <tr>\n",
       "      <th></th>\n",
       "      <td>...</td>\n",
       "      <td>...</td>\n",
       "      <td>...</td>\n",
       "      <td>...</td>\n",
       "      <td>...</td>\n",
       "      <td>...</td>\n",
       "      <td>...</td>\n",
       "      <td>...</td>\n",
       "      <td>...</td>\n",
       "      <td>...</td>\n",
       "      <td>...</td>\n",
       "    </tr>\n",
       "    <tr>\n",
       "      <th>...</th>\n",
       "      <td>...</td>\n",
       "      <td>...</td>\n",
       "      <td>...</td>\n",
       "      <td>...</td>\n",
       "      <td>...</td>\n",
       "      <td>...</td>\n",
       "      <td>...</td>\n",
       "      <td>...</td>\n",
       "      <td>...</td>\n",
       "      <td>...</td>\n",
       "      <td>...</td>\n",
       "    </tr>\n",
       "    <tr>\n",
       "      <th></th>\n",
       "      <td>...</td>\n",
       "      <td>...</td>\n",
       "      <td>...</td>\n",
       "      <td>...</td>\n",
       "      <td>...</td>\n",
       "      <td>...</td>\n",
       "      <td>...</td>\n",
       "      <td>...</td>\n",
       "      <td>...</td>\n",
       "      <td>...</td>\n",
       "      <td>...</td>\n",
       "    </tr>\n",
       "    <tr>\n",
       "      <th></th>\n",
       "      <td>...</td>\n",
       "      <td>...</td>\n",
       "      <td>...</td>\n",
       "      <td>...</td>\n",
       "      <td>...</td>\n",
       "      <td>...</td>\n",
       "      <td>...</td>\n",
       "      <td>...</td>\n",
       "      <td>...</td>\n",
       "      <td>...</td>\n",
       "      <td>...</td>\n",
       "    </tr>\n",
       "  </tbody>\n",
       "</table>\n",
       "</div>\n",
       "<div>Dask Name: to_dataframe, 315 tasks</div>"
      ],
      "text/plain": [
       "Dask DataFrame Structure:\n",
       "                 adresa datovaSchranka     ico   nazev ConfidenceValue n_enhancements n_issues n_prijemce n_priloha ciziMena schvalil\n",
       "npartitions=105                                                                                                                      \n",
       "                 object         object  object  object          object          int32    int32      int32     int32   object   object\n",
       "                    ...            ...     ...     ...             ...            ...      ...        ...       ...      ...      ...\n",
       "...                 ...            ...     ...     ...             ...            ...      ...        ...       ...      ...      ...\n",
       "                    ...            ...     ...     ...             ...            ...      ...        ...       ...      ...      ...\n",
       "                    ...            ...     ...     ...             ...            ...      ...        ...       ...      ...      ...\n",
       "Dask Name: to_dataframe, 315 tasks"
      ]
     },
     "execution_count": 87,
     "metadata": {},
     "output_type": "execute_result"
    }
   ],
   "source": [
    "data2 = lines.map(json.loads).map(extract_fields2)\n",
    "df2_ = data2.to_dataframe(columns2)\n",
    "df2_"
   ]
  },
  {
   "cell_type": "code",
   "execution_count": 88,
   "metadata": {
    "ExecuteTime": {
     "end_time": "2018-02-04T19:02:04.288581Z",
     "start_time": "2018-02-04T18:55:18.160864Z"
    }
   },
   "outputs": [
    {
     "data": {
      "text/html": [
       "<div>\n",
       "<style>\n",
       "    .dataframe thead tr:only-child th {\n",
       "        text-align: right;\n",
       "    }\n",
       "\n",
       "    .dataframe thead th {\n",
       "        text-align: left;\n",
       "    }\n",
       "\n",
       "    .dataframe tbody tr th {\n",
       "        vertical-align: top;\n",
       "    }\n",
       "</style>\n",
       "<table border=\"1\" class=\"dataframe\">\n",
       "  <thead>\n",
       "    <tr style=\"text-align: right;\">\n",
       "      <th></th>\n",
       "      <th>adresa</th>\n",
       "      <th>datovaSchranka</th>\n",
       "      <th>ico</th>\n",
       "      <th>nazev</th>\n",
       "      <th>ConfidenceValue</th>\n",
       "      <th>n_enhancements</th>\n",
       "      <th>n_issues</th>\n",
       "      <th>n_prijemce</th>\n",
       "      <th>n_priloha</th>\n",
       "      <th>ciziMena</th>\n",
       "      <th>schvalil</th>\n",
       "    </tr>\n",
       "  </thead>\n",
       "  <tbody>\n",
       "    <tr>\n",
       "      <th>0</th>\n",
       "      <td>Těšínská 1349/296 71600 Ostrava-Radvanice</td>\n",
       "      <td>mfecgmh</td>\n",
       "      <td>19010290</td>\n",
       "      <td>Pharmos,a.s.Ostrava</td>\n",
       "      <td>0</td>\n",
       "      <td>1</td>\n",
       "      <td>0</td>\n",
       "      <td>1</td>\n",
       "      <td>1</td>\n",
       "      <td>None</td>\n",
       "      <td>None</td>\n",
       "    </tr>\n",
       "    <tr>\n",
       "      <th>1</th>\n",
       "      <td>Husinecká 1024/11a, 13000 Praha 3, CZ</td>\n",
       "      <td>z49per3</td>\n",
       "      <td>01312774</td>\n",
       "      <td>Státní pozemkový úřad</td>\n",
       "      <td>0</td>\n",
       "      <td>1</td>\n",
       "      <td>1</td>\n",
       "      <td>1</td>\n",
       "      <td>1</td>\n",
       "      <td>None</td>\n",
       "      <td>None</td>\n",
       "    </tr>\n",
       "    <tr>\n",
       "      <th>2</th>\n",
       "      <td>Jiráskova 1775,39001 Tábor</td>\n",
       "      <td>g9bk5h7</td>\n",
       "      <td>70886334</td>\n",
       "      <td>Městská knihovna Tábor</td>\n",
       "      <td>-1</td>\n",
       "      <td>4</td>\n",
       "      <td>1</td>\n",
       "      <td>1</td>\n",
       "      <td>2</td>\n",
       "      <td>None</td>\n",
       "      <td>Eva Měřínská</td>\n",
       "    </tr>\n",
       "    <tr>\n",
       "      <th>3</th>\n",
       "      <td>Naskové 996/14, Košíře, 15000, Praha 5</td>\n",
       "      <td>gqn7zmk</td>\n",
       "      <td>27913830</td>\n",
       "      <td>GELAI Company s.r.o.</td>\n",
       "      <td>20</td>\n",
       "      <td>2</td>\n",
       "      <td>1</td>\n",
       "      <td>1</td>\n",
       "      <td>2</td>\n",
       "      <td>None</td>\n",
       "      <td>None</td>\n",
       "    </tr>\n",
       "    <tr>\n",
       "      <th>4</th>\n",
       "      <td>U Jezu 642/2a, 46001 Liberec, CZ</td>\n",
       "      <td>c5kbvkw</td>\n",
       "      <td>70891508</td>\n",
       "      <td>Liberecký kraj</td>\n",
       "      <td>0</td>\n",
       "      <td>0</td>\n",
       "      <td>0</td>\n",
       "      <td>1</td>\n",
       "      <td>1</td>\n",
       "      <td>None</td>\n",
       "      <td>None</td>\n",
       "    </tr>\n",
       "  </tbody>\n",
       "</table>\n",
       "</div>"
      ],
      "text/plain": [
       "                                      adresa datovaSchranka       ico  \\\n",
       "0  Těšínská 1349/296 71600 Ostrava-Radvanice        mfecgmh  19010290   \n",
       "1      Husinecká 1024/11a, 13000 Praha 3, CZ        z49per3  01312774   \n",
       "2                 Jiráskova 1775,39001 Tábor        g9bk5h7  70886334   \n",
       "3     Naskové 996/14, Košíře, 15000, Praha 5        gqn7zmk  27913830   \n",
       "4           U Jezu 642/2a, 46001 Liberec, CZ        c5kbvkw  70891508   \n",
       "\n",
       "                    nazev ConfidenceValue  n_enhancements  n_issues  \\\n",
       "0     Pharmos,a.s.Ostrava               0               1         0   \n",
       "1   Státní pozemkový úřad               0               1         1   \n",
       "2  Městská knihovna Tábor              -1               4         1   \n",
       "3    GELAI Company s.r.o.              20               2         1   \n",
       "4          Liberecký kraj               0               0         0   \n",
       "\n",
       "   n_prijemce  n_priloha ciziMena      schvalil  \n",
       "0           1          1     None          None  \n",
       "1           1          1     None          None  \n",
       "2           1          2     None  Eva Měřínská  \n",
       "3           1          2     None          None  \n",
       "4           1          1     None          None  "
      ]
     },
     "execution_count": 88,
     "metadata": {},
     "output_type": "execute_result"
    }
   ],
   "source": [
    "df2 = df2_.compute()\n",
    "df2.head()"
   ]
  },
  {
   "cell_type": "code",
   "execution_count": 90,
   "metadata": {
    "ExecuteTime": {
     "end_time": "2018-02-04T19:03:51.426102Z",
     "start_time": "2018-02-04T19:03:51.406074Z"
    }
   },
   "outputs": [
    {
     "data": {
      "text/plain": [
       "1049566"
      ]
     },
     "execution_count": 90,
     "metadata": {},
     "output_type": "execute_result"
    }
   ],
   "source": [
    "len(df2)"
   ]
  },
  {
   "cell_type": "code",
   "execution_count": 92,
   "metadata": {
    "ExecuteTime": {
     "end_time": "2018-02-04T19:04:09.449648Z",
     "start_time": "2018-02-04T19:04:08.959990Z"
    }
   },
   "outputs": [
    {
     "data": {
      "text/plain": [
       "adresa               54646\n",
       "datovaSchranka       19295\n",
       "ico                  10022\n",
       "nazev                    0\n",
       "ConfidenceValue          0\n",
       "n_enhancements           0\n",
       "n_issues                 0\n",
       "n_prijemce               0\n",
       "n_priloha                0\n",
       "ciziMena           1027512\n",
       "schvalil            688426\n",
       "dtype: int64"
      ]
     },
     "execution_count": 92,
     "metadata": {},
     "output_type": "execute_result"
    }
   ],
   "source": [
    "df2.isnull().sum()"
   ]
  },
  {
   "cell_type": "code",
   "execution_count": 94,
   "metadata": {
    "ExecuteTime": {
     "end_time": "2018-02-04T19:04:39.019080Z",
     "start_time": "2018-02-04T19:04:38.827926Z"
    }
   },
   "outputs": [
    {
     "data": {
      "text/plain": [
       " 0     657125\n",
       " 5     135547\n",
       "-1      86905\n",
       " 10     62283\n",
       " 20     60261\n",
       " 25     21639\n",
       " 19      9661\n",
       " 30      3615\n",
       " 40      2842\n",
       " 4       2129\n",
       "Name: ConfidenceValue, dtype: int64"
      ]
     },
     "execution_count": 94,
     "metadata": {},
     "output_type": "execute_result"
    }
   ],
   "source": [
    "df2.ConfidenceValue.value_counts().head(10)"
   ]
  },
  {
   "cell_type": "code",
   "execution_count": 105,
   "metadata": {
    "ExecuteTime": {
     "end_time": "2018-02-04T19:05:41.951061Z",
     "start_time": "2018-02-04T19:05:41.758926Z"
    }
   },
   "outputs": [
    {
     "data": {
      "text/plain": [
       "<matplotlib.axes._subplots.AxesSubplot at 0x1bc001b9438>"
      ]
     },
     "execution_count": 105,
     "metadata": {},
     "output_type": "execute_result"
    },
    {
     "data": {
      "image/png": "[encoded data removed]",
      "text/plain": [
       "<matplotlib.figure.Figure at 0x1bc001e7b00>"
      ]
     },
     "metadata": {},
     "output_type": "display_data"
    }
   ],
   "source": [
    "df2.n_enhancements.hist(bins=[0, 1, 2, 3, 4, 5, 6, 10])"
   ]
  },
  {
   "cell_type": "code",
   "execution_count": 107,
   "metadata": {
    "ExecuteTime": {
     "end_time": "2018-02-04T19:06:24.951781Z",
     "start_time": "2018-02-04T19:06:18.304026Z"
    }
   },
   "outputs": [
    {
     "data": {
      "text/plain": [
       "<matplotlib.axes._subplots.AxesSubplot at 0x1bc03c99400>"
      ]
     },
     "execution_count": 107,
     "metadata": {},
     "output_type": "execute_result"
    },
    {
     "data": {
      "image/png": "[encoded data removed]",
      "text/plain": [
       "<matplotlib.figure.Figure at 0x1bc5806a908>"
      ]
     },
     "metadata": {},
     "output_type": "display_data"
    }
   ],
   "source": [
    "df2.n_enhancements.plot.box(showfliers=False)"
   ]
  },
  {
   "cell_type": "code",
   "execution_count": 108,
   "metadata": {
    "ExecuteTime": {
     "end_time": "2018-02-04T19:08:59.371890Z",
     "start_time": "2018-02-04T19:08:52.754078Z"
    }
   },
   "outputs": [
    {
     "data": {
      "text/plain": [
       "<matplotlib.axes._subplots.AxesSubplot at 0x1bc58148978>"
      ]
     },
     "execution_count": 108,
     "metadata": {},
     "output_type": "execute_result"
    },
    {
     "data": {
      "image/png": "[encoded data removed]",
      "text/plain": [
       "<matplotlib.figure.Figure at 0x1bc581248d0>"
      ]
     },
     "metadata": {},
     "output_type": "display_data"
    }
   ],
   "source": [
    "df2.n_issues.plot.box(showfliers=False)"
   ]
  },
  {
   "cell_type": "code",
   "execution_count": 111,
   "metadata": {
    "ExecuteTime": {
     "end_time": "2018-02-04T19:08:30.852702Z",
     "start_time": "2018-02-04T19:08:30.803666Z"
    }
   },
   "outputs": [
    {
     "data": {
      "text/plain": [
       "count    1.049566e+06\n",
       "mean     1.024083e+00\n",
       "std      5.179437e-01\n",
       "min      1.000000e+00\n",
       "25%      1.000000e+00\n",
       "50%      1.000000e+00\n",
       "75%      1.000000e+00\n",
       "max      2.410000e+02\n",
       "Name: n_prijemce, dtype: float64"
      ]
     },
     "execution_count": 111,
     "metadata": {},
     "output_type": "execute_result"
    }
   ],
   "source": [
    "df2.n_prijemce.describe()"
   ]
  },
  {
   "cell_type": "code",
   "execution_count": 112,
   "metadata": {
    "ExecuteTime": {
     "end_time": "2018-02-04T19:08:45.216050Z",
     "start_time": "2018-02-04T19:08:45.150005Z"
    }
   },
   "outputs": [
    {
     "data": {
      "text/plain": [
       "count    1.049566e+06\n",
       "mean     1.487562e+00\n",
       "std      2.675533e+00\n",
       "min      0.000000e+00\n",
       "25%      1.000000e+00\n",
       "50%      1.000000e+00\n",
       "75%      1.000000e+00\n",
       "max      1.644000e+03\n",
       "Name: n_priloha, dtype: float64"
      ]
     },
     "execution_count": 112,
     "metadata": {},
     "output_type": "execute_result"
    }
   ],
   "source": [
    "df2.n_priloha.describe()"
   ]
  }
 ],
 "metadata": {
  "kernelspec": {
   "display_name": "Python 3",
   "language": "python",
   "name": "python3"
  },
  "language_info": {
   "codemirror_mode": {
    "name": "ipython",
    "version": 3
   },
   "file_extension": ".py",
   "mimetype": "text/x-python",
   "name": "python",
   "nbconvert_exporter": "python",
   "pygments_lexer": "ipython3",
   "version": "3.6.4"
  }
 },
 "nbformat": 4,
 "nbformat_minor": 2
}
