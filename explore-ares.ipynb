{
 "cells": [
  {
   "cell_type": "code",
   "execution_count": 1,
   "metadata": {
    "ExecuteTime": {
     "end_time": "2018-02-10T11:17:56.878283Z",
     "start_time": "2018-02-10T11:17:52.259803Z"
    }
   },
   "outputs": [],
   "source": [
    "%matplotlib inline\n",
    "import numpy as np\n",
    "import pandas as pd\n",
    "import py7zlib\n",
    "from io import StringIO\n",
    "import dask.bag as db\n",
    "from dask.distributed import Client\n",
    "client = Client()\n",
    "# check status at: http://localhost:8787/status"
   ]
  },
  {
   "cell_type": "code",
   "execution_count": 38,
   "metadata": {
    "ExecuteTime": {
     "end_time": "2018-02-11T09:00:35.676438Z",
     "start_time": "2018-02-11T09:00:35.555279Z"
    }
   },
   "outputs": [],
   "source": [
    "data_dir = \"data/ares\"\n",
    "dump_dir = f\"{data_dir}/2018-01-10\""
   ]
  },
  {
   "cell_type": "markdown",
   "metadata": {},
   "source": [
    "## Sources of information"
   ]
  },
  {
   "cell_type": "code",
   "execution_count": 3,
   "metadata": {
    "ExecuteTime": {
     "end_time": "2018-02-10T11:17:57.004546Z",
     "start_time": "2018-02-10T11:17:56.886237Z"
    }
   },
   "outputs": [
    {
     "data": {
      "text/plain": [
       "0\n",
       "NR                              Nadační rejstřík\n",
       "OR                             Obchodní rejstřík\n",
       "ROPS     Rejstřík obecně prospěšných společností\n",
       "RSVJ    Rejstřík společenství vlastníků jednotek\n",
       "RU                               Rejstřík ústavů\n",
       "SR                             Spolkový rejstřík\n",
       "Name: 1, dtype: object"
      ]
     },
     "execution_count": 3,
     "metadata": {},
     "output_type": "execute_result"
    }
   ],
   "source": [
    "vr_full_name = pd.read_csv(f\"{data_dir}/ares_ciselnik_VR.csv\", sep=';', header=None).set_index(0)[1]\n",
    "vr_full_name"
   ]
  },
  {
   "cell_type": "markdown",
   "metadata": {},
   "source": [
    "## Available ICOs"
   ]
  },
  {
   "cell_type": "code",
   "execution_count": 43,
   "metadata": {
    "ExecuteTime": {
     "end_time": "2018-02-11T09:08:11.716087Z",
     "start_time": "2018-02-11T09:08:11.697071Z"
    }
   },
   "outputs": [],
   "source": [
    "def read_7z(data_dir, base_filename, read_func):\n",
    "    \n",
    "    with open(f\"{data_dir}/{base_filename}.7z\", 'rb') as file:\n",
    "        archive = py7zlib.Archive7z(file)\n",
    "\n",
    "        csv = StringIO(archive.getmember(base_filename).read().decode())\n",
    "\n",
    "        return read_func(csv)\n",
    "    \n",
    "pd_read_csv_ares = lambda csv, col_names: pd.read_csv(csv, sep=';', header=None, names=col_names)\n",
    "pd_read_csv_ares_7z = lambda d, fn, col_names: read_7z(d, fn, lambda csv: pd_read_csv_ares(csv, col_names)) "
   ]
  },
  {
   "cell_type": "code",
   "execution_count": 47,
   "metadata": {
    "ExecuteTime": {
     "end_time": "2018-02-11T09:09:54.811664Z",
     "start_time": "2018-02-11T09:09:54.223448Z"
    }
   },
   "outputs": [
    {
     "data": {
      "text/html": [
       "<div>\n",
       "<style scoped>\n",
       "    .dataframe tbody tr th:only-of-type {\n",
       "        vertical-align: middle;\n",
       "    }\n",
       "\n",
       "    .dataframe tbody tr th {\n",
       "        vertical-align: top;\n",
       "    }\n",
       "\n",
       "    .dataframe thead th {\n",
       "        text-align: right;\n",
       "    }\n",
       "</style>\n",
       "<table border=\"1\" class=\"dataframe\">\n",
       "  <thead>\n",
       "    <tr style=\"text-align: right;\">\n",
       "      <th></th>\n",
       "      <th>ico</th>\n",
       "      <th>date_processed</th>\n",
       "    </tr>\n",
       "  </thead>\n",
       "  <tbody>\n",
       "    <tr>\n",
       "      <th>0</th>\n",
       "      <td>108</td>\n",
       "      <td>24.10.2015</td>\n",
       "    </tr>\n",
       "    <tr>\n",
       "      <th>1</th>\n",
       "      <td>124</td>\n",
       "      <td>24.10.2015</td>\n",
       "    </tr>\n",
       "    <tr>\n",
       "      <th>2</th>\n",
       "      <td>205</td>\n",
       "      <td>12.01.2017</td>\n",
       "    </tr>\n",
       "    <tr>\n",
       "      <th>3</th>\n",
       "      <td>248</td>\n",
       "      <td>24.10.2015</td>\n",
       "    </tr>\n",
       "    <tr>\n",
       "      <th>4</th>\n",
       "      <td>256</td>\n",
       "      <td>24.10.2015</td>\n",
       "    </tr>\n",
       "  </tbody>\n",
       "</table>\n",
       "</div>"
      ],
      "text/plain": [
       "   ico date_processed\n",
       "0  108     24.10.2015\n",
       "1  124     24.10.2015\n",
       "2  205     12.01.2017\n",
       "3  248     24.10.2015\n",
       "4  256     24.10.2015"
      ]
     },
     "execution_count": 47,
     "metadata": {},
     "output_type": "execute_result"
    }
   ],
   "source": [
    "# Obsahem je seznam IČO s datem posledního zpracování v IS ARES.\n",
    "ico_all = pd_read_csv_ares_7z(data_dir, \"ares_seznamIC_VR.csv\", ['ico', 'date_processed'])\n",
    "ico_all.head()"
   ]
  },
  {
   "cell_type": "code",
   "execution_count": 48,
   "metadata": {
    "ExecuteTime": {
     "end_time": "2018-02-11T09:09:55.832308Z",
     "start_time": "2018-02-11T09:09:55.499058Z"
    }
   },
   "outputs": [
    {
     "data": {
      "text/html": [
       "<div>\n",
       "<style scoped>\n",
       "    .dataframe tbody tr th:only-of-type {\n",
       "        vertical-align: middle;\n",
       "    }\n",
       "\n",
       "    .dataframe tbody tr th {\n",
       "        vertical-align: top;\n",
       "    }\n",
       "\n",
       "    .dataframe thead th {\n",
       "        text-align: right;\n",
       "    }\n",
       "</style>\n",
       "<table border=\"1\" class=\"dataframe\">\n",
       "  <thead>\n",
       "    <tr style=\"text-align: right;\">\n",
       "      <th></th>\n",
       "      <th>ico</th>\n",
       "    </tr>\n",
       "  </thead>\n",
       "  <tbody>\n",
       "    <tr>\n",
       "      <th>0</th>\n",
       "      <td>108</td>\n",
       "    </tr>\n",
       "    <tr>\n",
       "      <th>1</th>\n",
       "      <td>124</td>\n",
       "    </tr>\n",
       "    <tr>\n",
       "      <th>2</th>\n",
       "      <td>205</td>\n",
       "    </tr>\n",
       "    <tr>\n",
       "      <th>3</th>\n",
       "      <td>248</td>\n",
       "    </tr>\n",
       "    <tr>\n",
       "      <th>4</th>\n",
       "      <td>256</td>\n",
       "    </tr>\n",
       "  </tbody>\n",
       "</table>\n",
       "</div>"
      ],
      "text/plain": [
       "   ico\n",
       "0  108\n",
       "1  124\n",
       "2  205\n",
       "3  248\n",
       "4  256"
      ]
     },
     "execution_count": 48,
     "metadata": {},
     "output_type": "execute_result"
    }
   ],
   "source": [
    "# Obsahem je seznam IČO, pro které byl vytvořen Balík.\n",
    "ico_dump = pd_read_csv_ares_7z(dump_dir, \"ares_seznamIC_VR_balik.csv\", ['ico'])\n",
    "ico_dump.head()"
   ]
  },
  {
   "cell_type": "code",
   "execution_count": 51,
   "metadata": {
    "ExecuteTime": {
     "end_time": "2018-02-11T09:10:24.711946Z",
     "start_time": "2018-02-11T09:10:24.307663Z"
    }
   },
   "outputs": [
    {
     "data": {
      "text/plain": [
       "973595"
      ]
     },
     "execution_count": 51,
     "metadata": {},
     "output_type": "execute_result"
    }
   ],
   "source": [
    "len(set(ico_dump['ico']) & set(ico_all['ico']))"
   ]
  },
  {
   "cell_type": "code",
   "execution_count": 53,
   "metadata": {
    "ExecuteTime": {
     "end_time": "2018-02-11T09:10:43.736682Z",
     "start_time": "2018-02-11T09:10:43.414413Z"
    }
   },
   "outputs": [
    {
     "data": {
      "text/plain": [
       "1660"
      ]
     },
     "execution_count": 53,
     "metadata": {},
     "output_type": "execute_result"
    }
   ],
   "source": [
    "len(set(ico_dump['ico']) - set(ico_all['ico']))"
   ]
  },
  {
   "cell_type": "code",
   "execution_count": 54,
   "metadata": {
    "ExecuteTime": {
     "end_time": "2018-02-11T09:10:52.295297Z",
     "start_time": "2018-02-11T09:10:51.963074Z"
    }
   },
   "outputs": [
    {
     "data": {
      "text/plain": [
       "0"
      ]
     },
     "execution_count": 54,
     "metadata": {},
     "output_type": "execute_result"
    }
   ],
   "source": [
    "len(set(ico_all['ico']) - set(ico_dump['ico']))"
   ]
  },
  {
   "cell_type": "markdown",
   "metadata": {},
   "source": [
    "## The main dataset"
   ]
  },
  {
   "cell_type": "code",
   "execution_count": null,
   "metadata": {},
   "outputs": [],
   "source": []
  }
 ],
 "metadata": {
  "kernelspec": {
   "display_name": "Python 3",
   "language": "python",
   "name": "python3"
  },
  "language_info": {
   "codemirror_mode": {
    "name": "ipython",
    "version": 3
   },
   "file_extension": ".py",
   "mimetype": "text/x-python",
   "name": "python",
   "nbconvert_exporter": "python",
   "pygments_lexer": "ipython3",
   "version": "3.6.4"
  }
 },
 "nbformat": 4,
 "nbformat_minor": 2
}
