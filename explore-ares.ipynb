{
 "cells": [
  {
   "cell_type": "code",
   "execution_count": 1,
   "metadata": {
    "ExecuteTime": {
     "end_time": "2018-02-10T11:00:33.834947Z",
     "start_time": "2018-02-10T11:00:29.299364Z"
    }
   },
   "outputs": [],
   "source": [
    "%matplotlib inline\n",
    "import numpy as np\n",
    "import pandas as pd\n",
    "import py7zlib\n",
    "from io import StringIO\n",
    "import dask.bag as db\n",
    "from dask.distributed import Client\n",
    "client = Client()\n",
    "# check status at: http://localhost:8787/status"
   ]
  },
  {
   "cell_type": "code",
   "execution_count": 2,
   "metadata": {
    "ExecuteTime": {
     "end_time": "2018-02-10T11:00:34.761973Z",
     "start_time": "2018-02-10T11:00:34.751966Z"
    }
   },
   "outputs": [],
   "source": [
    "data_dir = \"data/ares\""
   ]
  },
  {
   "cell_type": "code",
   "execution_count": 3,
   "metadata": {
    "ExecuteTime": {
     "end_time": "2018-02-10T11:00:36.638038Z",
     "start_time": "2018-02-10T11:00:36.623042Z"
    }
   },
   "outputs": [
    {
     "data": {
      "text/plain": [
       "0\n",
       "NR                              Nadační rejstřík\n",
       "OR                             Obchodní rejstřík\n",
       "ROPS     Rejstřík obecně prospěšných společností\n",
       "RSVJ    Rejstřík společenství vlastníků jednotek\n",
       "RU                               Rejstřík ústavů\n",
       "SR                             Spolkový rejstřík\n",
       "Name: 1, dtype: object"
      ]
     },
     "execution_count": 3,
     "metadata": {},
     "output_type": "execute_result"
    }
   ],
   "source": [
    "vr_full_name = pd.read_csv(f\"{data_dir}/ares_ciselnik_VR.csv\", sep=';', header=None).set_index(0)[1]\n",
    "vr_full_name"
   ]
  },
  {
   "cell_type": "code",
   "execution_count": 37,
   "metadata": {
    "ExecuteTime": {
     "end_time": "2018-02-10T11:48:09.798990Z",
     "start_time": "2018-02-10T11:48:09.208560Z"
    }
   },
   "outputs": [
    {
     "data": {
      "text/html": [
       "<div>\n",
       "<style scoped>\n",
       "    .dataframe tbody tr th:only-of-type {\n",
       "        vertical-align: middle;\n",
       "    }\n",
       "\n",
       "    .dataframe tbody tr th {\n",
       "        vertical-align: top;\n",
       "    }\n",
       "\n",
       "    .dataframe thead th {\n",
       "        text-align: right;\n",
       "    }\n",
       "</style>\n",
       "<table border=\"1\" class=\"dataframe\">\n",
       "  <thead>\n",
       "    <tr style=\"text-align: right;\">\n",
       "      <th></th>\n",
       "      <th>ICO</th>\n",
       "      <th>date_processed</th>\n",
       "    </tr>\n",
       "  </thead>\n",
       "  <tbody>\n",
       "    <tr>\n",
       "      <th>0</th>\n",
       "      <td>108</td>\n",
       "      <td>24.10.2015</td>\n",
       "    </tr>\n",
       "    <tr>\n",
       "      <th>1</th>\n",
       "      <td>124</td>\n",
       "      <td>24.10.2015</td>\n",
       "    </tr>\n",
       "    <tr>\n",
       "      <th>2</th>\n",
       "      <td>205</td>\n",
       "      <td>12.01.2017</td>\n",
       "    </tr>\n",
       "    <tr>\n",
       "      <th>3</th>\n",
       "      <td>248</td>\n",
       "      <td>24.10.2015</td>\n",
       "    </tr>\n",
       "    <tr>\n",
       "      <th>4</th>\n",
       "      <td>256</td>\n",
       "      <td>24.10.2015</td>\n",
       "    </tr>\n",
       "  </tbody>\n",
       "</table>\n",
       "</div>"
      ],
      "text/plain": [
       "   ICO date_processed\n",
       "0  108     24.10.2015\n",
       "1  124     24.10.2015\n",
       "2  205     12.01.2017\n",
       "3  248     24.10.2015\n",
       "4  256     24.10.2015"
      ]
     },
     "execution_count": 37,
     "metadata": {},
     "output_type": "execute_result"
    }
   ],
   "source": [
    "ico_fn = \"ares_seznamIC_VR.csv\"\n",
    "with open(f\"{data_dir}/{ico_fn}.7z\", 'rb') as file:\n",
    "    archive = py7zlib.Archive7z(file)\n",
    "\n",
    "    csv = StringIO(archive.getmember(ico_fn).read().decode())\n",
    "    \n",
    "    ico = pd.read_csv(csv, sep=';', header=None, names=['ICO', 'date_processed'])\n",
    "\n",
    "ico.head()"
   ]
  },
  {
   "cell_type": "code",
   "execution_count": null,
   "metadata": {},
   "outputs": [],
   "source": []
  }
 ],
 "metadata": {
  "kernelspec": {
   "display_name": "Python 3",
   "language": "python",
   "name": "python3"
  },
  "language_info": {
   "codemirror_mode": {
    "name": "ipython",
    "version": 3
   },
   "file_extension": ".py",
   "mimetype": "text/x-python",
   "name": "python",
   "nbconvert_exporter": "python",
   "pygments_lexer": "ipython3",
   "version": "3.6.4"
  }
 },
 "nbformat": 4,
 "nbformat_minor": 2
}
