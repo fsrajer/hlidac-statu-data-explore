{
 "cells": [
  {
   "cell_type": "code",
   "execution_count": 1,
   "metadata": {
    "ExecuteTime": {
     "end_time": "2018-02-10T11:00:33.834947Z",
     "start_time": "2018-02-10T11:00:29.299364Z"
    }
   },
   "outputs": [],
   "source": [
    "%matplotlib inline\n",
    "import numpy as np\n",
    "import pandas as pd\n",
    "import dask.bag as db\n",
    "from dask.distributed import Client\n",
    "client = Client()\n",
    "# check status at: http://localhost:8787/status"
   ]
  },
  {
   "cell_type": "code",
   "execution_count": 2,
   "metadata": {
    "ExecuteTime": {
     "end_time": "2018-02-10T11:00:34.761973Z",
     "start_time": "2018-02-10T11:00:34.751966Z"
    }
   },
   "outputs": [],
   "source": [
    "data_dir = \"data/ares\""
   ]
  },
  {
   "cell_type": "code",
   "execution_count": 3,
   "metadata": {
    "ExecuteTime": {
     "end_time": "2018-02-10T11:00:36.638038Z",
     "start_time": "2018-02-10T11:00:36.623042Z"
    }
   },
   "outputs": [
    {
     "data": {
      "text/plain": [
       "0\n",
       "NR                              Nadační rejstřík\n",
       "OR                             Obchodní rejstřík\n",
       "ROPS     Rejstřík obecně prospěšných společností\n",
       "RSVJ    Rejstřík společenství vlastníků jednotek\n",
       "RU                               Rejstřík ústavů\n",
       "SR                             Spolkový rejstřík\n",
       "Name: 1, dtype: object"
      ]
     },
     "execution_count": 3,
     "metadata": {},
     "output_type": "execute_result"
    }
   ],
   "source": [
    "vr_full_name = pd.read_csv(f\"{data_dir}/ares_ciselnik_VR.csv\", sep=';', header=None).set_index(0)[1]\n",
    "vr_full_name"
   ]
  }
 ],
 "metadata": {
  "kernelspec": {
   "display_name": "Python 3",
   "language": "python",
   "name": "python3"
  },
  "language_info": {
   "codemirror_mode": {
    "name": "ipython",
    "version": 3
   },
   "file_extension": ".py",
   "mimetype": "text/x-python",
   "name": "python",
   "nbconvert_exporter": "python",
   "pygments_lexer": "ipython3",
   "version": "3.6.4"
  }
 },
 "nbformat": 4,
 "nbformat_minor": 2
}
