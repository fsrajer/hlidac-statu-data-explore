{
 "cells": [
  {
   "cell_type": "markdown",
   "metadata": {},
   "source": [
    "# Explore registr smluv\n",
    "elastic should be running for this"
   ]
  },
  {
   "cell_type": "code",
   "execution_count": 1,
   "metadata": {
    "ExecuteTime": {
     "end_time": "2018-03-18T10:18:33.804655Z",
     "start_time": "2018-03-18T10:18:32.939833Z"
    }
   },
   "outputs": [],
   "source": [
    "from elasticsearch import Elasticsearch\n",
    "es = Elasticsearch()"
   ]
  },
  {
   "cell_type": "code",
   "execution_count": 2,
   "metadata": {
    "ExecuteTime": {
     "end_time": "2018-03-18T10:19:57.782640Z",
     "start_time": "2018-03-18T10:19:57.778637Z"
    }
   },
   "outputs": [],
   "source": [
    "index = 'hlidacsmluv_2018-02-18'\n",
    "type_s = 'smlouva'\n",
    "docs_s = {'index': index, 'doc_type': type_s}"
   ]
  },
  {
   "cell_type": "code",
   "execution_count": 3,
   "metadata": {
    "ExecuteTime": {
     "end_time": "2018-03-18T10:20:22.501742Z",
     "start_time": "2018-03-18T10:20:20.332031Z"
    }
   },
   "outputs": [
    {
     "name": "stdout",
     "output_type": "stream",
     "text": [
      "Total count:\n"
     ]
    },
    {
     "data": {
      "text/plain": [
       "1107607"
      ]
     },
     "execution_count": 3,
     "metadata": {},
     "output_type": "execute_result"
    }
   ],
   "source": [
    "print(\"Total count:\")\n",
    "s_total = es.count(**docs_s)['count']\n",
    "s_total"
   ]
  },
  {
   "cell_type": "code",
   "execution_count": 4,
   "metadata": {
    "ExecuteTime": {
     "end_time": "2018-03-18T10:20:45.149110Z",
     "start_time": "2018-03-18T10:20:43.643515Z"
    }
   },
   "outputs": [
    {
     "data": {
      "text/plain": [
       "{'_id': '1351318',\n",
       " '_index': 'hlidacsmluv_2018-02-18',\n",
       " '_score': 1.0,\n",
       " '_source': {'calculatedPriceWithVATinCZK': 529980,\n",
       "  'calcutatedPriceQuality': 1,\n",
       "  'casZverejneni': '2017-03-01T08:19:01+01:00',\n",
       "  'cisloSmlouvy': '0112/17',\n",
       "  'confidenceValue': 0,\n",
       "  'datumUzavreni': '2017-02-28T00:00:00',\n",
       "  'enhancements': [{'changed': {'newValue': '',\n",
       "     'parameterName': 'item.Prilohy[0].PlainTextContent',\n",
       "     'previousValue': ''},\n",
       "    'created': '2017-03-02T02:21:15.3881414+01:00',\n",
       "    'description': '',\n",
       "    'enhancerType': 'HlidacSmluv.Plugin.Enhancers.TextMiner',\n",
       "    'public': True,\n",
       "    'title': 'Text přílohy extrahován přímo z dokumentu'}],\n",
       "  'hodnotaVcetneDph': 529980,\n",
       "  'id': '1351318',\n",
       "  'identifikator': {'idSmlouvy': '1263186', 'idVerze': '1351318'},\n",
       "  'issues': [],\n",
       "  'lastUpdate': '2017-12-26T18:32:06.4605968+01:00',\n",
       "  'odkaz': 'https://smlouvy.gov.cz/smlouva/1351318',\n",
       "  'platce': {'adresa': 'Město Cheb,  náměstí Krále Jiřího z Poděbra 14,  35020 Cheb 1',\n",
       "   'datovaSchranka': 'a8gbnyc',\n",
       "   'ico': '00253979',\n",
       "   'nazev': 'Město Cheb',\n",
       "   'utvar': 'Odbor informatiky'},\n",
       "  'platnyZaznam': True,\n",
       "  'predmet': 'Kupní smlouva Server HP DL380',\n",
       "  'prijemce': [{'adresa': 'AutoCont CZ a.s.,  Hornopolní 3322/34,  70200 Ostrava',\n",
       "    'datovaSchranka': '8ugcxkk',\n",
       "    'ico': '47676795',\n",
       "    'nazev': 'AutoCont CZ a.s.'}],\n",
       "  'prilohy': [{'contentType': 'application/pdf',\n",
       "    'datlClassification': {'contracttype': [{'label': 'Koupě',\n",
       "       'probability': 0.962649941,\n",
       "       'value': 'KOUP'},\n",
       "      {'label': 'Dílo', 'probability': 0.0178768821, 'value': 'DILO'}],\n",
       "     'cpvcode': [{'label': 'Stavební práce',\n",
       "       'probability': 0.130914539,\n",
       "       'value': 'X45000000_7'},\n",
       "      {'label': 'Nábytek (včetně kancelářského), zařízení interiéru, domácí spotřebiče (mimo osvětlení) a\\xa0čisticí prostředky',\n",
       "       'probability': 0.101531163,\n",
       "       'value': 'X39000000_2'}],\n",
       "     'created': '2017-05-19T13:19:42+02:00',\n",
       "     'doctype': [{'label': 'Smlouva',\n",
       "       'probability': 0.995279431,\n",
       "       'value': 'Smlouva'},\n",
       "      {'label': 'Ostatní', 'probability': 0.0039012467, 'value': 'Ostatni'}]},\n",
       "    'fileMetadata': [{'key': 'date', 'value': '2017-03-01T07:10:56Z'},\n",
       "     {'key': 'pdf:PDFVersion', 'value': '1.4'},\n",
       "     {'key': 'xmp:CreatorTool', 'value': 'Microsoft® Word 2010'},\n",
       "     {'key': 'access_permission:modify_annotations', 'value': 'true'},\n",
       "     {'key': 'access_permission:can_print_degraded', 'value': 'true'},\n",
       "     {'key': 'pdfa:PDFVersion', 'value': 'A-1a'},\n",
       "     {'key': 'dc:creator', 'value': 'trnka@cheb.cz'},\n",
       "     {'key': 'dcterms:created', 'value': '2017-03-01T07:10:56Z'},\n",
       "     {'key': 'Last-Modified', 'value': '2017-03-01T07:10:56Z'},\n",
       "     {'key': 'dcterms:modified', 'value': '2017-03-01T07:10:56Z'},\n",
       "     {'key': 'dc:format',\n",
       "      'value': 'application/pdf; version=1.4, application/pdf; version=\"A-1a\"'},\n",
       "     {'key': 'xmpMM:DocumentID',\n",
       "      'value': 'uuid:EB142E2E-B3B7-4209-9B38-E0C8BF1F7F1D'},\n",
       "     {'key': 'Last-Save-Date', 'value': '2017-03-01T07:10:56Z'},\n",
       "     {'key': 'pdf:docinfo:creator_tool', 'value': 'Microsoft® Word 2010'},\n",
       "     {'key': 'access_permission:fill_in_form', 'value': 'true'},\n",
       "     {'key': 'pdf:docinfo:modified', 'value': '2017-03-01T07:10:56Z'},\n",
       "     {'key': 'meta:save-date', 'value': '2017-03-01T07:10:56Z'},\n",
       "     {'key': 'pdf:encrypted', 'value': 'false'},\n",
       "     {'key': 'modified', 'value': '2017-03-01T07:10:56Z'},\n",
       "     {'key': 'Content-Type', 'value': 'application/pdf'},\n",
       "     {'key': 'FilePath',\n",
       "      'value': 'E:\\\\michal\\\\AppData\\\\Local\\\\Temp\\\\tmp397.tmp'},\n",
       "     {'key': 'pdf:docinfo:creator', 'value': 'trnka@cheb.cz'},\n",
       "     {'key': 'X-Parsed-By',\n",
       "      'value': 'org.apache.tika.parser.DefaultParser, org.apache.tika.parser.pdf.PDFParser'},\n",
       "     {'key': 'creator', 'value': 'trnka@cheb.cz'},\n",
       "     {'key': 'pdfaid:conformance', 'value': 'A'},\n",
       "     {'key': 'meta:author', 'value': 'trnka@cheb.cz'},\n",
       "     {'key': 'meta:creation-date', 'value': '2017-03-01T07:10:56Z'},\n",
       "     {'key': 'created', 'value': 'Wed Mar 01 08:10:56 CET 2017'},\n",
       "     {'key': 'access_permission:extract_for_accessibility', 'value': 'true'},\n",
       "     {'key': 'access_permission:assemble_document', 'value': 'true'},\n",
       "     {'key': 'xmpTPg:NPages', 'value': '4'},\n",
       "     {'key': 'Creation-Date', 'value': '2017-03-01T07:10:56Z'},\n",
       "     {'key': 'access_permission:extract_content', 'value': 'true'},\n",
       "     {'key': 'pdfaid:part', 'value': '1'},\n",
       "     {'key': 'access_permission:can_print', 'value': 'true'},\n",
       "     {'key': 'Author', 'value': 'trnka@cheb.cz'},\n",
       "     {'key': 'producer', 'value': 'Microsoft® Word 2010'},\n",
       "     {'key': 'access_permission:can_modify', 'value': 'true'},\n",
       "     {'key': 'pdf:docinfo:producer', 'value': 'Microsoft® Word 2010'},\n",
       "     {'key': 'pdf:docinfo:created', 'value': '2017-03-01T07:10:56Z'}],\n",
       "    'hash': {'algoritmus': 'sha256',\n",
       "     'value': 'f9fec93ef3c014f6038fe35a10b5500155688738104b6e56562a821786349460'},\n",
       "    'lastUpdate': '2017-03-02T02:21:15.3881414+01:00',\n",
       "    'lenght': 12436,\n",
       "    'nazevSouboru': 'Kupni_smlouva_server.pdf',\n",
       "    'odkaz': 'https://smlouvy.gov.cz/smlouva/soubor/1967854/Kupni_smlouva_server.pdf',\n",
       "    'pages': 0,\n",
       "    'plainTextContent': 'Příloha č. 1 VZ „Obměna zastaralého serveru“\\r\\n\\r\\n                       KUPNÍ SMLOUVA\\r\\n\\r\\nuzavřená ve smyslu § 2079 a násl. občanského zákoníku č. 89/2012 Sb., mezi těmito smluvními\\r\\nstranami:\\r\\n\\r\\n   1. kupujícím:             město Cheb\\r\\n   se sídlem:                náměstí Krále Jiřího z Poděbrad 1/14, 350 20 Cheb\\r\\n   IČO:                      00253979\\r\\n   DIČ:                      CZ 00253979\\r\\n   Bankovní spojení:         KB Cheb č. ú. 19-528331/0100\\r\\n   zastoupený:               Ing. Petrem Navrátilem, starostou města\\r\\n\\r\\na\\r\\n\\r\\n   2. prodávajícím:          AutoCont CZ a.s.\\r\\n\\r\\n   zapsaná v obchodním rejstříku vedeném krajským Soudem v Ostravě, spisová značka: B814\\r\\n\\r\\n   se sídlem:                Hornopolní 3322/34, 702 00 Ostrava\\r\\n\\r\\n   IČO:                      47676795\\r\\n\\r\\n   DIČ:                      CZ47676795\\r\\n\\r\\n   Bankovní spojení:         Česká spořitelna a.s. č.ú. 6563752/0800\\r\\n\\r\\n   zastoupený:               Ing. Zdeněk Chobot, ředitel regionálního centra\\r\\n\\r\\n                                                           I.\\r\\n                                                 Předmět smlouvy\\r\\n1. Předmětem této smlouvy je závazek prodávajícího odevzdat kupujícímu předmět koupě\\r\\n   a umožnit kupujícímu nabytí vlastnického práva k předmětu koupě a závazek kupujícího\\r\\n   předmět koupě převzít a zaplatit za něj kupní cenu.\\r\\n2. Předmětem této smlouvy je: Server HP DL380.\\r\\n3. Kupující je povinen zboží bez vad dodané převzít a zaplatit za něj prodávajícímu dohodnutou\\r\\n   kupní cenu podle této smlouvy.\\r\\n\\r\\n4. Prodávající je vlastníkem zboží a nese nebezpečí škody na něm do nabytí vlastnického práva ke\\r\\n   zboží kupujícím. Kupující nabývá vlastnické právo ke zboží převzetím zboží bez vad.\\r\\n   Prodávající touto smlouvou a za podmínek v ní uvedených zboží prodávajícímu prodává,\\r\\n   kupující touto smlouvou a za podmínek v ní uvedených zboží od prodávajícího kupuje.\\r\\n\\r\\n                                               II.\\r\\n                             Specifikace předmětu smlouvy\\r\\n\\r\\n1. Předmětem smlouvy je\\r\\n\\r\\n   Server HP DL380 v konfiguraci:\\r\\n\\r\\n   Počet Kód          Popis\\r\\n\\r\\n   1     767032-B21   HP DL380 Gen9 24SFF CTO Server\\r\\n\\r\\n   2     817943-B21   HPE DL380 Gen9 E5-2650v4 Kit\\r\\n\\r\\n   12    805351-B21   HPE 32GB 2Rx4 PC4-2400T-R Kit\\r\\n\\r\\n   1     724864-B21   HP DL380 Gen9 2SFF Bay Kit\\r\\n\\r\\n   2     816965-B21   HP 120GB 6Gb SATA 2.5 MU-PLP SC S2 SSD\\r\\n\\r\\n   10    781518-B21   HP 1.2TB 12G SAS 10K 2.5in SC ENT HDD\\r\\n\\r\\n   1     700751-B21   HPE FlexFabric 10Gb 2P 534FLR-SFP+ Adptr\\r\\n\\r\\n   1     749974-B21   HP Smart Array P440ar/2G FIO Controller\\r\\n\\r\\n                                                  Strana 1 (celkem 4)\\r\\nPříloha č. 1 VZ „Obměna zastaralého serveru“\\r\\n\\r\\n1  727250-B21      HP 12Gb DL380 Gen9 SAS Expander Card\\r\\n\\r\\n1  733660-B21      HP 2U SFF Easy Install Rail Kit\\r\\n\\r\\n1  AJ764A          HPE 82Q 8Gb Dual Port PCI-e FC HBA\\r\\n\\r\\n2  720479-B21      HPE 800W FS Plat Ht Plg Pwr Supply Kit\\r\\n\\r\\n1  BD505A          HPE iLO Adv incl 3yr TSU 1-Svr Lic\\r\\n\\r\\n1  H7J32A5         HPE 5Y Foundation Care NBD Service\\r\\n\\r\\n1  H7J32A5         HPE iLO Advanced Non Blade - Support\\r\\n\\r\\n2. Prodávající se zavazuje kupujícímu dodat za podmínek závazné nabídky prodávajícího ze dne\\r\\n   17.02.2017, za konečnou cenu zboží, kterou prodávající nabídl ve své nabídce.\\r\\n   Předmětem smlouvy jsou rovněž činnosti, práce a dodávky, které nejsou v nabídce prodávajícího\\r\\n   obsaženy, ale o kterých prodávající věděl, nebo podle svých odborných znalostí vědět měl nebo\\r\\n   mohl, že jsou k řádnému splnění této smlouvy třeba. Předmět smlouvy zahrnuje dodání\\r\\n   předmětného zboží a zajištění všech činností, prací a služeb, věcí a dodávek nutných k naplnění\\r\\n   předmětu smlouvy. Prodávající prohlašuje, že má pro plnění předmětu smlouvy platné oprávnění\\r\\n   a potřebné zkušenosti, potřebné odborníky a kvalifikaci.\\r\\n\\r\\n                                                          III.\\r\\n                                        Doba plnění a dodací podmínky\\r\\n1. Prodávající se zavazuje vlastním nákladem dopravit zboží kupujícímu a řádně jej protokolárně\\r\\n    kupujícímu předat nejpozději dne 15.03.2017 nebo dle dohody smluvních stran, která musí mít\\r\\n    písemnou formu, v závislosti na klimatických podmínkách.\\r\\n2. Dodáním zboží a jeho předání kupujícímu se rozumí úplná a kompletní dodávka předmětu\\r\\n    smlouvy bez vad a v požadované kvalitě dle specifikace, která je součástí nabídky\\r\\n    prodávajícího. Zástupci kupujícího bude předmět smlouvy předán spolu s předávacím\\r\\n    protokolem osobně prodávajícím\\r\\n\\r\\n                                                       IV.\\r\\n\\r\\n                   Cena - platební podmínky\\r\\n\\r\\n1. Smluvní strany se dohodly na pevné ceně ve výši:\\r\\n\\r\\n   Cena za provedení díla bez DPH -                        438 000,- Kč\\r\\n\\r\\n   DPH 21%                                          -       91 980,- Kč\\r\\n\\r\\n   Cena celkem                                      -      529 980,- Kč\\r\\n\\r\\n2. V ceně jsou zahrnuty veškeré náklady prodávajícího, které při plnění svého závazku dle této\\r\\n\\r\\nsmlouvy vynaloží.\\r\\n\\r\\n3. Daňový doklad bude obsahovat veškeré náležitosti daňového dokladu stanovené zákonem\\r\\n\\r\\nč. 235/2004 Sb., ve znění pozdějších předpisů. Splatnost faktury bude 14 dnů ode dne doručení\\r\\n\\r\\nkupujícímu.\\r\\n\\r\\n                                                           V.\\r\\n                                         Odpovědnost za vady - záruka\\r\\n1. Prodávající se zavazuje, že předané zboží bude prosté vad a bude kvalitativně odpovídat\\r\\n   podaným nabídkám. Vadou se rozumí odchylka od množství, druhu či kvalitativních podmínek\\r\\n   zboží nebo jeho části, stanovených touto smlouvou nebo technickými normami či jinými obecně\\r\\n   závaznými právními předpisy. Prodávající odpovídá za vady zjevné, skryté i právní, které má\\r\\n   zboží v době jeho předání kupujícímu a dále za ty, které se na zboží vyskytnou v záruční době.\\r\\n   Prodávající prohlašuje, že je výlučným vlastníkem zboží, že na zboží neváznou žádná práva\\r\\n   třetích osob a že není dána žádná překážka, která by mu bránila se zbožím podle této smlouvy\\r\\n   disponovat. Prodávající prohlašuje, že zboží nemá žádné vady, které by bránily jeho použití\\r\\n   k obvyklým účelům.\\r\\n\\r\\n                   Strana 2 (celkem 4)\\r\\nPříloha č. 1 VZ „Obměna zastaralého serveru“\\r\\n\\r\\n2. Prodávající poskytuje ve smyslu § 2113 občanského zákoníku kupujícímu záruku za jakost zboží\\r\\n   spočívající v tom, že zboží, jakož i jeho veškeré části, bude po záruční dobu (24 měsíců od data\\r\\n   převzetí zboží kupujícím) způsobilé pro použití k obvyklým účelům a zachová si obvyklé\\r\\n   vlastnost\\r\\n\\r\\n                                                          VI.\\r\\n                                                  Smluvní pokuty\\r\\n1. Kupující je oprávněn uložit prodávajícímu smluvní pokutu v případě zaviněného prodlení\\r\\n    prodávajícího:\\r\\n     a) s termínem předání zboží,\\r\\n     b) s předáním kompletních dokladů nezbytných pro převzetí zboží,\\r\\n     c) s odstraněním vad oproti lhůtám, jež byly kupujícím stanoveny v protokolu o předání\\r\\n        a převzetí zboží,\\r\\n     - Výše smluvní pokuty při prodlení prodávajícího podle bodu a) činí 1000 Kč za každý\\r\\n         i započatý den prodlení.\\r\\n     - Výše smluvní pokuty při prodlení prodávajícího podle bodu b) činí 1000 Kč za každý\\r\\n         i započatý den prodlení.\\r\\n     - Výše smluvní pokuty při prodlení prodávajícího podle bodu c) činí 1000 Kč za každý\\r\\n         i započatý den prodlení.\\r\\n\\r\\n2. Kupující je dále oprávněn uložit prodávajícímu smluvní pokutu, pokud vypověděl smlouvu\\r\\n    z důvodu vadného plnění na straně prodávajícího, výše smluvní pokuty činí v takovém případě\\r\\n    5 % z celkové ceny zboží.\\r\\n\\r\\n3. Smluvní strany se dohodly, že v případě zaviněného prodlení se zaplacením faktury\\r\\n    prodávajícímu kupujícím dle této smlouvy, má prodávající právo uplatnit smluvní pokutu ve\\r\\n    výši 0,01% z dlužné částky za každý kalendářní den prodlení.\\r\\n\\r\\n4. Smluvní pokuta je splatná do 14 dnů od data doručení písemné výzvy k zaplacení ze strany\\r\\n    oprávněné, a to na účet uvedený ve výzvě. Prodávající dává výslovný souhlas k eventuálnímu\\r\\n    provedení vzájemného zápočtu.\\r\\n\\r\\n5. Povinností zaplatit smluvní pokutu, jak je specifikována výše, není dotčeno právo na náhradu\\r\\n    škody, a to ani co do výše, v níž případně náhrada škody smluvní pokutu přesáhne.\\r\\n\\r\\n                                                         VIII.\\r\\n                                         Kontaktní osoby a doručování\\r\\n1. Smluvní strany se dohodly, že kontaktní osobou na straně kupujícího je: Bc. Martin Trnka\\r\\n     a na straně prodávajícího: Kubát Jiří\\r\\n2. Smluvní strany se dohodly na následujícím způsobu doručování:\\r\\n       \\uf0b7 Poštou – faktury a dodatky ke smlouvě – adresa okupujícího: v záhlaví této smlouvy.\\r\\n\\r\\n                                                            – adresa prodávajícího: v záhlaví této smlouvy.\\r\\n       \\uf0b7 Osobně – veškeré technické doklady, za kupujícího i prodávajícího potvrdí převzetí\\r\\n\\r\\n           kontaktní osoby, nebo jejich zástupci.\\r\\n       \\uf0b7 V případě doručování dokumentů se za řádně doručené považují též dokumenty doručené\\r\\n\\r\\n           prostřednictvím datové schránky. Doručuje-li se způsobem podle zákona č. 300/2008 Sb.,\\r\\n           v platném znění, ustanovení jiných právních předpisů upravující způsob doručení se\\r\\n           nepoužijí. Dokument, který byl dodán do datové schránky, je doručen okamžikem, kdy se\\r\\n           do datové schránky přihlásí osoba, která má s ohledem na rozsah svého oprávnění přístup\\r\\n           k dodanému dokumentu. Nepřihlásí-li se tato osoba do datové schránky ve lhůtě 10 dnů\\r\\n           ode dne, kdy byl dokument dodán do datové schránky, považuje se tento dokument za\\r\\n           doručený posledním dnem této lhůty. Takovéto doručení dokumentu má stejné právní\\r\\n           účinky jako doručení do vlastních rukou.\\r\\n\\r\\n                                                           X.\\r\\n\\r\\n                                                             Strana 3 (celkem 4)\\r\\nPříloha č. 1 VZ „Obměna zastaralého serveru“\\r\\n\\r\\n                                              Závěrečná ustanovení\\r\\n1. Tato smlouva nabývá platnosti dnem podpisu oprávněnými zástupci obou smluvních stran.\\r\\n\\r\\n    Smlouva nabývá účinnosti nejdříve dnem uveřejnění prostřednictvím registru smluv dle zákona\\r\\n    č. 340/2015 Sb., o zvláštních podmínkách účinnosti některých smluv, uveřejňování těchto\\r\\n    smluv a o registru smluv. Kupující se zavazuje realizovat zveřejnění této smlouvy\\r\\n    v předmětném registru v souladu s uvedeným zákonem.\\r\\n2. Smlouva je vyhotovena ve dvou stejnopisech.\\r\\n3. V případě neplatnosti nebo neúčinnosti některého ustanovení této smlouvy nebudou dotčena\\r\\n    ostatní ustanovení smlouvy.\\r\\n4. Smluvní strany se dohodly, že promlčecí lhůta k uplatnění práv smluvní strany bude 10 let od\\r\\n    doby, kdy mohlo být uplatněno poprvé.\\r\\n5. Tuto smlouvu lze měnit, doplňovat a upřesňovat výhradně oboustranně odsouhlasenými,\\r\\n    písemnými a průběžně číslovanými dodatky, podepsanými oprávněnými zástupci obou\\r\\n    smluvních stran. K jakýmkoli jiným formám změn než dodatkům této smlouvy případně ústním\\r\\n    ujednáním se nepřihlíží.\\r\\n6. Kupující s prodávajícím ujednali, v souladu s ustanovením § 89a zákona č. 99/1963 Sb., občanský\\r\\n    soudní řád, v platném znění, že v případě jejich sporu, který by byl řešen soudní cestou, je místně\\r\\n    příslušným soudem místně příslušný soud kupujícího.\\r\\n7. Smluvní strany výslovně prohlašují, že jsou k právnímu jednání zcela svéprávné, že tato\\r\\n    smlouva je projevem jejich pravé, určité a svobodné vůle a že si tuto smlouvu podrobně\\r\\n    přečetly, zcela jednoznačně porozuměly jejímu obsahu, proti kterému nemají žádných výhrad,\\r\\n    uzavírají ji dobrovolně, nikoliv v tísni, pod nátlakem nebo za nápadně jednostranně\\r\\n    nevýhodných podmínek a takto ji podepisují.\\r\\n8. Tato smlouva je uzavřena v souladu s ustanovením článku IV. odst. 1 písm. a) směrnice\\r\\n    č. 30/2016 o zadávání veřejných zakázek městem Cheb a právnickými osobami zřízenými nebo\\r\\n    založenými městem Cheb, schválené usnesením Rady města Chebu č. RM 445/17/2016.\\r\\n\\r\\nV Chebu dne 28.2.2017                        V Karlových varech dne 17.2.2017\\r\\n\\r\\n______________________                       ______________________\\r\\n      za kupujícího                                  za prodávajícího\\r\\n                                                     Ing. Zdeněk Chobot\\r\\n                                                     na základě plné moci\\r\\n\\r\\n                        Strana 4 (celkem 4)\\r\\n',\n",
       "    'plainTextContentQuality': 3,\n",
       "    'wordCount': 1543}],\n",
       "  'schvalil': 'Ing.,Petr Navrátil',\n",
       "  'vkladatelDoRejstriku': {'adresa': 'Město Cheb,  náměstí Krále Jiřího z Poděbra 14,  35020 Cheb 1',\n",
       "   'datovaSchranka': 'a8gbnyc',\n",
       "   'ico': '00253979',\n",
       "   'nazev': 'Město Cheb',\n",
       "   'utvar': 'Odbor informatiky'}},\n",
       " '_type': 'smlouva'}"
      ]
     },
     "execution_count": 4,
     "metadata": {},
     "output_type": "execute_result"
    }
   ],
   "source": [
    "ds = es.search(**docs_s)['hits']['hits']\n",
    "ds[0]"
   ]
  }
 ],
 "metadata": {
  "kernelspec": {
   "display_name": "Python 3",
   "language": "python",
   "name": "python3"
  },
  "language_info": {
   "codemirror_mode": {
    "name": "ipython",
    "version": 3
   },
   "file_extension": ".py",
   "mimetype": "text/x-python",
   "name": "python",
   "nbconvert_exporter": "python",
   "pygments_lexer": "ipython3",
   "version": "3.6.4"
  }
 },
 "nbformat": 4,
 "nbformat_minor": 2
}
