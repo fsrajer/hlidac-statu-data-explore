{
 "cells": [
  {
   "cell_type": "markdown",
   "metadata": {},
   "source": [
    "# Parse raw data\n",
    "The original input is one nicely formatted json but we need a single json per line for every contract in order to read the data using dask."
   ]
  },
  {
   "cell_type": "code",
   "execution_count": null,
   "metadata": {
    "ExecuteTime": {
     "end_time": "2018-01-30T21:09:25.387774Z",
     "start_time": "2018-01-30T21:09:24.808378Z"
    },
    "collapsed": true
   },
   "outputs": [],
   "source": [
    "import pandas as pd\n",
    "import dask.bag as db\n",
    "import ijson # iterative json reading\n",
    "import simplejson as json # handles Decimal type read by ijson \n",
    "from zipfile import ZipFile\n",
    "import gzip\n",
    "\n",
    "# base_fn = \"smlouvy\"\n",
    "base_fn = \"smlouvy-2018-01-26\"\n",
    "zip_fn = f\"data/hlidac/{base_fn}.zip\"\n",
    "data_fn = f\"{base_fn}.json\"\n",
    "\n",
    "out_data_fn = f\"data/hlidac/{base_fn}_lines.txt.gz\""
   ]
  },
  {
   "cell_type": "code",
   "execution_count": null,
   "metadata": {
    "ExecuteTime": {
     "end_time": "2018-01-30T21:09:49.262449Z",
     "start_time": "2018-01-30T21:09:27.654227Z"
    }
   },
   "outputs": [],
   "source": [
    "with ZipFile(zip_fn, 'r').open(data_fn) as file_in, \\\n",
    "        gzip.open(out_data_fn, 'w') as file_out:\n",
    "    objects = ijson.items(file_in, 'item')\n",
    "    i = 0\n",
    "    for o in objects:\n",
    "        json_line = json.dumps(o, ensure_ascii=False, use_decimal=True)\n",
    "        file_out.write((json_line + '\\n').encode('utf-8'))\n",
    "        i += 1\n",
    "        if i%10000 == 0:\n",
    "            print(i)"
   ]
  },
  {
   "cell_type": "markdown",
   "metadata": {},
   "source": [
    "Sanity check - run this only for the small data"
   ]
  },
  {
   "cell_type": "code",
   "execution_count": null,
   "metadata": {
    "ExecuteTime": {
     "end_time": "2018-01-30T21:09:53.114798Z",
     "start_time": "2018-01-30T21:09:51.533980Z"
    },
    "collapsed": true
   },
   "outputs": [],
   "source": [
    "with open(f\"data/hlidac/{base_fn}.json\", 'r', encoding='utf-8') as file:\n",
    "    data_all = json.load(file)"
   ]
  },
  {
   "cell_type": "code",
   "execution_count": null,
   "metadata": {
    "ExecuteTime": {
     "end_time": "2018-01-30T21:10:05.161107Z",
     "start_time": "2018-01-30T21:09:53.116800Z"
    }
   },
   "outputs": [],
   "source": [
    "import dask.bag as db\n",
    "lines = db.read_text(out_data_fn)\n",
    "data_all_parsed = lines.map(json.loads).compute()"
   ]
  },
  {
   "cell_type": "code",
   "execution_count": null,
   "metadata": {
    "ExecuteTime": {
     "end_time": "2018-01-30T21:10:05.264693Z",
     "start_time": "2018-01-30T21:10:05.163108Z"
    }
   },
   "outputs": [],
   "source": [
    "data_all == data_all_parsed"
   ]
  }
 ],
 "metadata": {
  "kernelspec": {
   "display_name": "Python 3",
   "language": "python",
   "name": "python3"
  },
  "language_info": {
   "codemirror_mode": {
    "name": "ipython",
    "version": 3
   },
   "file_extension": ".py",
   "mimetype": "text/x-python",
   "name": "python",
   "nbconvert_exporter": "python",
   "pygments_lexer": "ipython3",
   "version": "3.6.3"
  }
 },
 "nbformat": 4,
 "nbformat_minor": 2
}
