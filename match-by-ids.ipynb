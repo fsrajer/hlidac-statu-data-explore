{
 "cells": [
  {
   "cell_type": "markdown",
   "metadata": {},
   "source": [
    "# Match vz to rs through vz ids"
   ]
  },
  {
   "cell_type": "code",
   "execution_count": 1,
   "metadata": {
    "ExecuteTime": {
     "end_time": "2018-03-20T06:42:05.119705Z",
     "start_time": "2018-03-20T06:42:04.698398Z"
    }
   },
   "outputs": [],
   "source": [
    "from elasticsearch import Elasticsearch\n",
    "from exploretools import Explorer\n",
    "es = Elasticsearch()\n",
    "ex = Explorer(es)"
   ]
  },
  {
   "cell_type": "code",
   "execution_count": 2,
   "metadata": {
    "ExecuteTime": {
     "end_time": "2018-03-20T06:42:05.482940Z",
     "start_time": "2018-03-20T06:42:05.476931Z"
    }
   },
   "outputs": [],
   "source": [
    "docs_vz = {'index': 'verejnezakazky_2018-02-13', \n",
    "           'doc_type': 'verejnazakazka'}\n",
    "docs_rs = {'index': 'hlidacsmluv_2018-02-18', \n",
    "           'doc_type': 'smlouva'}"
   ]
  },
  {
   "cell_type": "code",
   "execution_count": 4,
   "metadata": {
    "ExecuteTime": {
     "end_time": "2018-03-20T06:43:50.864262Z",
     "start_time": "2018-03-20T06:43:33.790458Z"
    }
   },
   "outputs": [
    {
     "name": "stdout",
     "output_type": "stream",
     "text": [
      "Went through 185790 entries.\n",
      "Found 180171 unique entries.\n",
      "Went through 185790 entries.\n",
      "Found 185790 unique entries.\n"
     ]
    }
   ],
   "source": [
    "ecz = ex.unique_exact(docs_vz, 'evidencniCisloZakazky')\n",
    "vz_id = ex.unique_exact(docs_vz, 'id')"
   ]
  },
  {
   "cell_type": "code",
   "execution_count": 35,
   "metadata": {
    "ExecuteTime": {
     "end_time": "2018-03-20T06:51:39.078093Z",
     "start_time": "2018-03-20T06:51:39.068102Z"
    }
   },
   "outputs": [],
   "source": [
    "def msearch_body(field, vals, limit = None):\n",
    "    body = []\n",
    "    for val in vals:\n",
    "        body.append({})\n",
    "        body.append({'query': {'term': {field: val}}})\n",
    "        if limit is not None and len(body)//2 > limit:\n",
    "            break\n",
    "    return body"
   ]
  },
  {
   "cell_type": "code",
   "execution_count": 39,
   "metadata": {
    "ExecuteTime": {
     "end_time": "2018-03-20T06:52:31.578447Z",
     "start_time": "2018-03-20T06:52:15.924832Z"
    }
   },
   "outputs": [
    {
     "name": "stdout",
     "output_type": "stream",
     "text": [
      "is there a non-empty response?\n"
     ]
    },
    {
     "data": {
      "text/plain": [
       "0"
      ]
     },
     "execution_count": 39,
     "metadata": {},
     "output_type": "execute_result"
    }
   ],
   "source": [
    "body = msearch_body('prilohy.fileMetadata.value.keyword', ecz)\n",
    "responses = es.msearch(**docs_rs, body=body, request_timeout=60)['responses']\n",
    "print(\"is there a non-empty response?\")\n",
    "sum([len(response['hits']['hits']) > 0 for response in responses])"
   ]
  },
  {
   "cell_type": "code",
   "execution_count": 43,
   "metadata": {
    "ExecuteTime": {
     "end_time": "2018-03-20T06:53:46.527504Z",
     "start_time": "2018-03-20T06:53:31.787773Z"
    }
   },
   "outputs": [
    {
     "name": "stdout",
     "output_type": "stream",
     "text": [
      "is there a non-empty response?\n"
     ]
    },
    {
     "data": {
      "text/plain": [
       "0"
      ]
     },
     "execution_count": 19,
     "metadata": {},
     "output_type": "execute_result"
    }
   ],
   "source": [
    "body = msearch_body('prilohy.fileMetadata.value.keyword', vz_id)\n",
    "responses = es.msearch(**docs_rs, body=body, request_timeout=60)['responses']\n",
    "print(\"is there a non-empty response?\")\n",
    "sum([len(response['hits']['hits']) > 0 for response in responses])"
   ]
  },
  {
   "cell_type": "code",
   "execution_count": 59,
   "metadata": {
    "ExecuteTime": {
     "end_time": "2018-03-18T17:44:06.078170Z",
     "start_time": "2018-03-18T17:44:05.447899Z"
    }
   },
   "outputs": [
    {
     "name": "stdout",
     "output_type": "stream",
     "text": [
      "is there a non-empty response?\n"
     ]
    },
    {
     "data": {
      "text/plain": [
       "0"
      ]
     },
     "execution_count": 20,
     "metadata": {},
     "output_type": "execute_result"
    }
   ],
   "source": [
    "body = msearch_body('prilohy.plainTextContent', ecz)\n",
    "responses = es.msearch(**docs_rs, body=body, request_timeout=600)['responses']\n",
    "print(\"is there a non-empty response?\")\n",
    "sum([len(response['hits']['hits']) > 0 for response in responses])"
   ]
  },
  {
   "cell_type": "code",
   "execution_count": 69,
   "metadata": {
    "ExecuteTime": {
     "end_time": "2018-03-20T06:14:51.329015Z",
     "start_time": "2018-03-20T06:14:51.250974Z"
    }
   },
   "outputs": [
    {
     "name": "stdout",
     "output_type": "stream",
     "text": [
      "is there a non-empty response?\n"
     ]
    },
    {
     "data": {
      "text/plain": [
       "0"
      ]
     },
     "execution_count": 21,
     "metadata": {},
     "output_type": "execute_result"
    }
   ],
   "source": [
    "body = msearch_body('prilohy.plainTextContent', vz_id)\n",
    "responses = es.msearch(**docs_rs, body=body, request_timeout=600)['responses']\n",
    "print(\"is there a non-empty response?\")\n",
    "sum([len(response['hits']['hits']) > 0 for response in responses])"
   ]
  }
 ],
 "metadata": {
  "kernelspec": {
   "display_name": "Python 3",
   "language": "python",
   "name": "python3"
  },
  "language_info": {
   "codemirror_mode": {
    "name": "ipython",
    "version": 3
   },
   "file_extension": ".py",
   "mimetype": "text/x-python",
   "name": "python",
   "nbconvert_exporter": "python",
   "pygments_lexer": "ipython3",
   "version": "3.6.4"
  }
 },
 "nbformat": 4,
 "nbformat_minor": 2
}
