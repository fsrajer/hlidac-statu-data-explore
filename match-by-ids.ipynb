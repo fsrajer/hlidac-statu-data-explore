{
 "cells": [
  {
   "cell_type": "markdown",
   "metadata": {},
   "source": [
    "# Match vz to rs through vz ids"
   ]
  },
  {
   "cell_type": "code",
   "execution_count": 1,
   "metadata": {
    "ExecuteTime": {
     "end_time": "2018-03-28T19:06:51.443477Z",
     "start_time": "2018-03-28T19:06:43.705575Z"
    }
   },
   "outputs": [],
   "source": [
    "import pandas as pd\n",
    "from elasticsearch import Elasticsearch\n",
    "from exploretools import Explorer\n",
    "\n",
    "es = Elasticsearch()\n",
    "ex = Explorer(es)"
   ]
  },
  {
   "cell_type": "code",
   "execution_count": 3,
   "metadata": {
    "ExecuteTime": {
     "end_time": "2018-03-28T19:06:59.252296Z",
     "start_time": "2018-03-28T19:06:59.249294Z"
    }
   },
   "outputs": [],
   "source": [
    "docs_vz = {'index': 'verejnezakazky_2018-02-13', \n",
    "           'doc_type': 'verejnazakazka'}\n",
    "docs_rs = {'index': 'hlidacsmluv_2018-02-18', \n",
    "           'doc_type': 'smlouva'}"
   ]
  },
  {
   "cell_type": "markdown",
   "metadata": {},
   "source": [
    "### Get all vz ids"
   ]
  },
  {
   "cell_type": "code",
   "execution_count": 4,
   "metadata": {
    "ExecuteTime": {
     "end_time": "2018-03-28T19:07:11.706083Z",
     "start_time": "2018-03-28T19:06:59.666059Z"
    }
   },
   "outputs": [
    {
     "name": "stdout",
     "output_type": "stream",
     "text": [
      "Went through 185790 entries.\n",
      "Found 180171 unique entries.\n"
     ]
    }
   ],
   "source": [
    "ecz = ex.unique_exact(docs_vz, 'evidencniCisloZakazky')\n",
    "# vz_id = ex.unique_exact(docs_vz, 'id') # this is finding nothing (based on a few queries compared to ecz)"
   ]
  },
  {
   "cell_type": "markdown",
   "metadata": {},
   "source": [
    "### Explore matches manually"
   ]
  },
  {
   "cell_type": "code",
   "execution_count": 105,
   "metadata": {
    "ExecuteTime": {
     "end_time": "2018-03-28T20:32:35.966652Z",
     "start_time": "2018-03-28T20:32:35.961649Z"
    }
   },
   "outputs": [
    {
     "data": {
      "text/plain": [
       "'60061212'"
      ]
     },
     "execution_count": 105,
     "metadata": {},
     "output_type": "execute_result"
    }
   ],
   "source": [
    "ecz[idx]"
   ]
  },
  {
   "cell_type": "code",
   "execution_count": 121,
   "metadata": {
    "ExecuteTime": {
     "end_time": "2018-03-28T20:33:35.781868Z",
     "start_time": "2018-03-28T20:33:35.448330Z"
    }
   },
   "outputs": [
    {
     "data": {
      "text/plain": [
       "{'_shards': {'failed': 0, 'skipped': 0, 'successful': 5, 'total': 5},\n",
       " 'hits': {'hits': [{'_id': 'pre382499364',\n",
       "    '_index': 'hlidacsmluv_2018-02-18',\n",
       "    '_score': 14.781748,\n",
       "    '_source': {'id': 'pre382499364'},\n",
       "    '_type': 'smlouva'}],\n",
       "  'max_score': 14.781748,\n",
       "  'total': 1},\n",
       " 'timed_out': False,\n",
       " 'took': 299}"
      ]
     },
     "execution_count": 121,
     "metadata": {},
     "output_type": "execute_result"
    }
   ],
   "source": [
    "idx=19333\n",
    "r=es.search(**docs_rs, body={'query': {'term': {'prilohy.plainTextContent': ecz[idx]}},\n",
    "                             '_source': ['id']},\n",
    "           size=10)\n",
    "r"
   ]
  },
  {
   "cell_type": "code",
   "execution_count": 122,
   "metadata": {
    "ExecuteTime": {
     "end_time": "2018-03-28T20:33:37.181957Z",
     "start_time": "2018-03-28T20:33:37.057941Z"
    }
   },
   "outputs": [
    {
     "data": {
      "text/plain": [
       "'366914'"
      ]
     },
     "execution_count": 122,
     "metadata": {},
     "output_type": "execute_result"
    }
   ],
   "source": [
    "import json\n",
    "r=es.search(**docs_rs, body={'query': {'term': {'prilohy.plainTextContent': ecz[idx]}}})\n",
    "with open('data/work/tmp.txt', 'w', encoding='utf8') as f:\n",
    "    json.dump(r['hits']['hits'][0], f, ensure_ascii=False)\n",
    "ecz[idx]"
   ]
  },
  {
   "cell_type": "markdown",
   "metadata": {},
   "source": [
    "### Match all"
   ]
  },
  {
   "cell_type": "code",
   "execution_count": 48,
   "metadata": {
    "ExecuteTime": {
     "end_time": "2018-03-28T19:32:43.267628Z",
     "start_time": "2018-03-28T19:32:43.257637Z"
    }
   },
   "outputs": [],
   "source": [
    "def msearch_body(field, vals, limit = None):\n",
    "    body = []\n",
    "    for val in vals:\n",
    "        body.append({})\n",
    "        body.append({'query':   {'term': {field: val}},\n",
    "                     '_source': ['id'],\n",
    "                     'size':    1000})\n",
    "        if limit is not None and len(body)//2 > limit:\n",
    "            break\n",
    "    return body\n",
    "\n",
    "def get_rs_ids(response):\n",
    "    get_rs_id = lambda hit: hit['_source']['id']\n",
    "    hits = response['hits']['hits']\n",
    "    return list(map(get_rs_id, hits))"
   ]
  },
  {
   "cell_type": "code",
   "execution_count": 72,
   "metadata": {
    "ExecuteTime": {
     "end_time": "2018-03-28T20:14:41.678205Z",
     "start_time": "2018-03-28T19:47:49.205155Z"
    }
   },
   "outputs": [
    {
     "name": "stdout",
     "output_type": "stream",
     "text": [
      "0/180171\n",
      "1000/180171\n",
      "2000/180171\n",
      "3000/180171\n",
      "4000/180171\n",
      "5000/180171\n",
      "6000/180171\n",
      "7000/180171\n",
      "8000/180171\n",
      "9000/180171\n",
      "10000/180171\n",
      "11000/180171\n",
      "12000/180171\n",
      "13000/180171\n",
      "14000/180171\n",
      "15000/180171\n",
      "16000/180171\n",
      "17000/180171\n",
      "18000/180171\n",
      "19000/180171\n",
      "20000/180171\n",
      "21000/180171\n",
      "22000/180171\n",
      "23000/180171\n",
      "24000/180171\n",
      "25000/180171\n",
      "26000/180171\n",
      "27000/180171\n",
      "28000/180171\n",
      "29000/180171\n",
      "30000/180171\n",
      "31000/180171\n",
      "32000/180171\n",
      "33000/180171\n",
      "34000/180171\n",
      "35000/180171\n",
      "36000/180171\n",
      "37000/180171\n",
      "38000/180171\n",
      "39000/180171\n",
      "40000/180171\n",
      "41000/180171\n",
      "42000/180171\n",
      "43000/180171\n",
      "44000/180171\n",
      "45000/180171\n",
      "46000/180171\n",
      "47000/180171\n",
      "48000/180171\n",
      "49000/180171\n",
      "50000/180171\n",
      "51000/180171\n",
      "52000/180171\n",
      "53000/180171\n",
      "54000/180171\n",
      "55000/180171\n",
      "56000/180171\n",
      "57000/180171\n",
      "58000/180171\n",
      "59000/180171\n",
      "60000/180171\n",
      "61000/180171\n",
      "62000/180171\n",
      "63000/180171\n",
      "64000/180171\n",
      "65000/180171\n",
      "66000/180171\n",
      "67000/180171\n",
      "68000/180171\n",
      "69000/180171\n",
      "70000/180171\n",
      "71000/180171\n",
      "72000/180171\n",
      "73000/180171\n",
      "74000/180171\n",
      "75000/180171\n",
      "76000/180171\n",
      "77000/180171\n",
      "78000/180171\n",
      "79000/180171\n",
      "80000/180171\n",
      "81000/180171\n",
      "82000/180171\n",
      "83000/180171\n",
      "84000/180171\n",
      "85000/180171\n",
      "86000/180171\n",
      "87000/180171\n",
      "88000/180171\n",
      "89000/180171\n",
      "90000/180171\n",
      "91000/180171\n",
      "92000/180171\n",
      "93000/180171\n",
      "94000/180171\n",
      "95000/180171\n",
      "96000/180171\n",
      "97000/180171\n",
      "98000/180171\n",
      "99000/180171\n",
      "100000/180171\n",
      "101000/180171\n",
      "102000/180171\n",
      "103000/180171\n",
      "104000/180171\n",
      "105000/180171\n",
      "106000/180171\n",
      "107000/180171\n",
      "108000/180171\n",
      "109000/180171\n",
      "110000/180171\n",
      "111000/180171\n",
      "112000/180171\n",
      "113000/180171\n",
      "114000/180171\n",
      "115000/180171\n",
      "116000/180171\n",
      "117000/180171\n",
      "118000/180171\n",
      "119000/180171\n",
      "120000/180171\n",
      "121000/180171\n",
      "122000/180171\n",
      "123000/180171\n",
      "124000/180171\n",
      "125000/180171\n",
      "126000/180171\n",
      "127000/180171\n",
      "128000/180171\n",
      "129000/180171\n",
      "130000/180171\n",
      "131000/180171\n",
      "132000/180171\n",
      "133000/180171\n",
      "134000/180171\n",
      "135000/180171\n",
      "136000/180171\n",
      "137000/180171\n",
      "138000/180171\n",
      "139000/180171\n",
      "140000/180171\n",
      "141000/180171\n",
      "142000/180171\n",
      "143000/180171\n",
      "144000/180171\n",
      "145000/180171\n",
      "146000/180171\n",
      "147000/180171\n",
      "148000/180171\n",
      "149000/180171\n",
      "150000/180171\n",
      "151000/180171\n",
      "152000/180171\n",
      "153000/180171\n",
      "154000/180171\n",
      "155000/180171\n",
      "156000/180171\n",
      "157000/180171\n",
      "158000/180171\n",
      "159000/180171\n",
      "160000/180171\n",
      "161000/180171\n",
      "162000/180171\n",
      "163000/180171\n",
      "164000/180171\n",
      "165000/180171\n",
      "166000/180171\n",
      "167000/180171\n",
      "168000/180171\n",
      "169000/180171\n",
      "170000/180171\n",
      "171000/180171\n",
      "172000/180171\n",
      "173000/180171\n",
      "174000/180171\n",
      "175000/180171\n",
      "176000/180171\n",
      "177000/180171\n",
      "178000/180171\n",
      "179000/180171\n",
      "180000/180171\n"
     ]
    }
   ],
   "source": [
    "matches = {}\n",
    "batch_size = 1000\n",
    "for i in range(0, len(ecz), batch_size):\n",
    "    batch_end = min(i+batch_size, len(ecz))\n",
    "    batch = ecz[i:batch_end]\n",
    "    body = msearch_body('prilohy.plainTextContent', batch)\n",
    "    \n",
    "    responses = es.msearch(**docs_rs, body=body, request_timeout=600)['responses']\n",
    "    \n",
    "    rs_ids = map(get_rs_ids, responses)\n",
    "    \n",
    "    matches.update(dict(zip(batch, rs_ids)))\n",
    "    \n",
    "    with open('data/work/matches.json', 'w') as f:\n",
    "        json.dump(matches, f)\n",
    "        \n",
    "    print(f\"{i}/{len(ecz)}\")"
   ]
  },
  {
   "cell_type": "markdown",
   "metadata": {},
   "source": [
    "### Check number of matches"
   ]
  },
  {
   "cell_type": "code",
   "execution_count": 83,
   "metadata": {
    "ExecuteTime": {
     "end_time": "2018-03-28T20:23:03.678714Z",
     "start_time": "2018-03-28T20:23:03.493087Z"
    }
   },
   "outputs": [
    {
     "data": {
      "text/plain": [
       "count    180171.000000\n",
       "mean          1.683306\n",
       "std           8.328173\n",
       "min           0.000000\n",
       "25%           0.000000\n",
       "50%           0.000000\n",
       "75%           1.000000\n",
       "max         753.000000\n",
       "dtype: float64"
      ]
     },
     "execution_count": 83,
     "metadata": {},
     "output_type": "execute_result"
    }
   ],
   "source": [
    "sm = pd.Series(matches)\n",
    "sm.apply(len).describe()"
   ]
  },
  {
   "cell_type": "code",
   "execution_count": 84,
   "metadata": {
    "ExecuteTime": {
     "end_time": "2018-03-28T20:23:07.643893Z",
     "start_time": "2018-03-28T20:23:07.582566Z"
    }
   },
   "outputs": [
    {
     "data": {
      "text/plain": [
       "0    114006\n",
       "1     23333\n",
       "4     10152\n",
       "2     10102\n",
       "5      7022\n",
       "3      4644\n",
       "6      3313\n",
       "7      1799\n",
       "8      1069\n",
       "9       713\n",
       "dtype: int64"
      ]
     },
     "execution_count": 84,
     "metadata": {},
     "output_type": "execute_result"
    }
   ],
   "source": [
    "sm.apply(len).value_counts().head(10)"
   ]
  },
  {
   "cell_type": "markdown",
   "metadata": {},
   "source": [
    "## Conclusion\n",
    "All vz ids (`evidencniCisloZakazky`) were matched to all plaintext documents of all rs contracts (`prilohy.plainTextContent`)\n",
    "\n",
    "### Quantitative\n",
    "Total number of unique vz ids: 180 171\n",
    "\n",
    "Un-matchable: 114 006\n",
    "\n",
    "Matches exactly one contract: 23 333\n",
    "\n",
    "### Qualitative\n",
    "Procedure: \n",
    "1. Choose some random vz id which matches to a rs document\n",
    "2. Print the document a look for the id\n",
    "3. Look at the neighborhood of the detected id\n",
    "\n",
    "Based on a few searches, it seems that there will be many false positives, especially for the short numerical vz ids since the number can have different meaning. Some true positives had words such as verejna zakazka, vestnik VZ, etc. around them. I suppose that for a more precise matching, co-occurence of these words should be detected."
   ]
  }
 ],
 "metadata": {
  "kernelspec": {
   "display_name": "Python 3",
   "language": "python",
   "name": "python3"
  },
  "language_info": {
   "codemirror_mode": {
    "name": "ipython",
    "version": 3
   },
   "file_extension": ".py",
   "mimetype": "text/x-python",
   "name": "python",
   "nbconvert_exporter": "python",
   "pygments_lexer": "ipython3",
   "version": "3.6.4"
  }
 },
 "nbformat": 4,
 "nbformat_minor": 2
}
