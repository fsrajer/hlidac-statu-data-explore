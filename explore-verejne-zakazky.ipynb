{
 "cells": [
  {
   "cell_type": "markdown",
   "metadata": {},
   "source": [
    "# Explore verejne zakazky\n",
    "elastic search should be running for this"
   ]
  },
  {
   "cell_type": "code",
   "execution_count": 1,
   "metadata": {
    "ExecuteTime": {
     "end_time": "2018-03-18T08:53:16.010649Z",
     "start_time": "2018-03-18T08:53:14.914723Z"
    }
   },
   "outputs": [],
   "source": [
    "from elasticsearch import Elasticsearch\n",
    "es = Elasticsearch()"
   ]
  },
  {
   "cell_type": "code",
   "execution_count": 2,
   "metadata": {
    "ExecuteTime": {
     "end_time": "2018-03-18T08:53:17.663497Z",
     "start_time": "2018-03-18T08:53:17.655507Z"
    }
   },
   "outputs": [],
   "source": [
    "index = 'verejnezakazky_2018-02-13'\n",
    "type_vz = 'verejnazakazka'\n",
    "type_pz = 'profilzadavatele'\n",
    "docs_vz = {'index': index, 'doc_type': type_vz}\n",
    "docs_pz = {'index': index, 'doc_type': type_pz}"
   ]
  },
  {
   "cell_type": "markdown",
   "metadata": {},
   "source": [
    "## Verejne zakazky"
   ]
  },
  {
   "cell_type": "code",
   "execution_count": 3,
   "metadata": {
    "ExecuteTime": {
     "end_time": "2018-03-18T08:53:20.879776Z",
     "start_time": "2018-03-18T08:53:19.390784Z"
    }
   },
   "outputs": [
    {
     "name": "stdout",
     "output_type": "stream",
     "text": [
      "Total count:\n"
     ]
    },
    {
     "data": {
      "text/plain": [
       "185790"
      ]
     },
     "execution_count": 3,
     "metadata": {},
     "output_type": "execute_result"
    }
   ],
   "source": [
    "print(\"Total count:\")\n",
    "vz_total = es.count(**docs_vz)['count']\n",
    "vz_total"
   ]
  },
  {
   "cell_type": "code",
   "execution_count": 6,
   "metadata": {
    "ExecuteTime": {
     "end_time": "2018-03-18T08:53:51.465690Z",
     "start_time": "2018-03-18T08:53:51.450680Z"
    }
   },
   "outputs": [
    {
     "data": {
      "text/plain": [
       "{'_id': '8700CC9E1FF5D48FD7F29DC100B35B85',\n",
       " '_index': 'verejnezakazky_2018-02-13',\n",
       " '_score': 1.0,\n",
       " '_source': {'cPV': ['16000000-5'],\n",
       "  'dataset': 'VVZ-2006',\n",
       "  'datumUverejneni': '2014-09-09T00:00:00',\n",
       "  'displayId': 0,\n",
       "  'dodavatele': [],\n",
       "  'dokumenty': [],\n",
       "  'evidencniCisloZakazky': '496393',\n",
       "  'formulare': [{'cislo': '7452010096393',\n",
       "    'druh': 'F52',\n",
       "    'onlyOnProfile': False,\n",
       "    'uRL': '',\n",
       "    'zverejnen': '2014-09-09T00:00:00'}],\n",
       "  'id': '8700CC9E1FF5D48FD7F29DC100B35B85',\n",
       "  'kriteria': [],\n",
       "  'lastUpdated': '0001-01-01T00:00:00',\n",
       "  'posledniZmena': '2014-09-09T00:00:00',\n",
       "  'zadavatel': {'iCO': '62698044', 'jmeno': 'Pavel Francl'}},\n",
       " '_type': 'verejnazakazka'}"
      ]
     },
     "execution_count": 6,
     "metadata": {},
     "output_type": "execute_result"
    }
   ],
   "source": [
    "ds = es.search(**docs_vz)['hits']['hits']\n",
    "ds[0]"
   ]
  },
  {
   "cell_type": "code",
   "execution_count": 56,
   "metadata": {
    "ExecuteTime": {
     "end_time": "2018-03-18T09:35:43.200242Z",
     "start_time": "2018-03-18T09:35:43.194249Z"
    }
   },
   "outputs": [],
   "source": [
    "def n_unique_approx(docs_param, field):\n",
    "    \"\"\"\n",
    "    This is elastic native way how to count distinct v\n",
    "    \"\"\"\n",
    "    body = {'size': 0,\n",
    "            'aggs': {'distinct_ids': {'cardinality': {'field': field}}}}\n",
    "    return es.search(**docs_param, body=body)['aggregations']['distinct_ids']['value']"
   ]
  },
  {
   "cell_type": "code",
   "execution_count": 57,
   "metadata": {
    "ExecuteTime": {
     "end_time": "2018-03-18T09:35:44.088493Z",
     "start_time": "2018-03-18T09:35:44.065476Z"
    }
   },
   "outputs": [],
   "source": [
    "def n_unique_exact(docs_param, field):\n",
    "    page = es.search(\n",
    "        **docs_param,\n",
    "        scroll='2m',\n",
    "        size=1000,\n",
    "        body={\"query\": {\"match_all\": {}}})\n",
    "    sid = page['_scroll_id']\n",
    "    scroll_size = page['hits']['total']\n",
    "\n",
    "    # Start scrolling\n",
    "    elems = set()\n",
    "    while(scroll_size > 0):\n",
    "        page = es.scroll(scroll_id=sid, scroll='2m')\n",
    "        sid = page['_scroll_id']\n",
    "        # Get the number of results that we returned in the last scroll\n",
    "        scroll_size = len(page['hits']['hits'])\n",
    "\n",
    "        elems.update(\n",
    "            {entry['_source'][field] for entry in page['hits']['hits']})\n",
    "    \n",
    "    return len(elems)"
   ]
  },
  {
   "cell_type": "markdown",
   "metadata": {},
   "source": [
    "Is `evidencniCisloZakazky` and `id` unique? "
   ]
  },
  {
   "cell_type": "code",
   "execution_count": 59,
   "metadata": {
    "ExecuteTime": {
     "end_time": "2018-03-18T09:36:43.493846Z",
     "start_time": "2018-03-18T09:36:17.158871Z"
    }
   },
   "outputs": [
    {
     "name": "stdout",
     "output_type": "stream",
     "text": [
      "evidencniCisloZakazky: approx. 179209/185790\n",
      "id: approx. 184790/185790\n",
      "displayId: approx. 1/185790\n"
     ]
    }
   ],
   "source": [
    "def print_n_unique(field):\n",
    "    print(f\"{field}: {n_unique_exact(docs_vz, field)}/{vz_total}\")\n",
    "print_n_unique('evidencniCisloZakazky')\n",
    "print_n_unique('id') \n",
    "print_n_unique('displayId')"
   ]
  },
  {
   "cell_type": "code",
   "execution_count": 23,
   "metadata": {
    "ExecuteTime": {
     "end_time": "2018-03-18T09:09:03.201788Z",
     "start_time": "2018-03-18T09:09:03.174781Z"
    }
   },
   "outputs": [
    {
     "data": {
      "text/plain": [
       "{'_shards': {'failed': 0, 'skipped': 0, 'successful': 5, 'total': 5},\n",
       " 'hits': {'hits': [{'_id': 'B27CAE54F33ED60E3CE947ABCE495C96',\n",
       "    '_index': 'verejnezakazky_2018-02-13',\n",
       "    '_score': 1.8918245,\n",
       "    '_source': {'cPV': [],\n",
       "     'dataset': 'VVZ-2016',\n",
       "     'datumUverejneni': '2016-12-23T00:00:00+01:00',\n",
       "     'displayId': 0,\n",
       "     'dodavatele': [],\n",
       "     'dokumenty': [],\n",
       "     'evidencniCisloZakazky': 'Z2016-007561',\n",
       "     'formulare': [{'cislo': 'F2016-007561',\n",
       "       'druh': 'CZ05',\n",
       "       'onlyOnProfile': False,\n",
       "       'uRL': '',\n",
       "       'zverejnen': '2016-12-23T00:00:00'}],\n",
       "     'id': 'B27CAE54F33ED60E3CE947ABCE495C96',\n",
       "     'kriteria': [],\n",
       "     'lastUpdated': '2016-12-23T00:00:00',\n",
       "     'posledniZmena': '2016-12-23T00:00:00',\n",
       "     'zadavatel': {'iCO': '60153245',\n",
       "      'jmeno': 'Gymnázium, Vrchlabí, Komenského 586'}},\n",
       "    '_type': 'verejnazakazka'},\n",
       "   {'_id': '1A946F6DCF60D530617B639E8375744A',\n",
       "    '_index': 'verejnezakazky_2018-02-13',\n",
       "    '_score': 1.8918245,\n",
       "    '_source': {'cPV': [],\n",
       "     'dataset': 'VVZ-2016',\n",
       "     'datumUverejneni': '2017-08-30T00:00:00+02:00',\n",
       "     'displayId': 0,\n",
       "     'dodavatele': [],\n",
       "     'dokumenty': [],\n",
       "     'evidencniCisloZakazky': 'Z2017-023789',\n",
       "     'formulare': [{'cislo': 'F2017-023789',\n",
       "       'druh': 'CZ05',\n",
       "       'onlyOnProfile': False,\n",
       "       'uRL': '',\n",
       "       'zverejnen': '2017-08-30T00:00:00'}],\n",
       "     'id': '1A946F6DCF60D530617B639E8375744A',\n",
       "     'kriteria': [],\n",
       "     'lastUpdated': '2017-08-30T00:00:00',\n",
       "     'posledniZmena': '2017-08-30T00:00:00',\n",
       "     'zadavatel': {'iCO': '00637246', 'jmeno': 'Obec Nýrov'}},\n",
       "    '_type': 'verejnazakazka'},\n",
       "   {'_id': '5B7F2CC02D08439CC39F76E673234311',\n",
       "    '_index': 'verejnezakazky_2018-02-13',\n",
       "    '_score': 1.8918245,\n",
       "    '_source': {'cPV': [],\n",
       "     'dataset': 'VVZ-2016',\n",
       "     'datumUverejneni': '2017-01-16T00:00:00+01:00',\n",
       "     'displayId': 0,\n",
       "     'dodavatele': [],\n",
       "     'dokumenty': [],\n",
       "     'evidencniCisloZakazky': 'Z2017-001230',\n",
       "     'formulare': [{'cislo': 'F2017-001230',\n",
       "       'druh': 'CZ05',\n",
       "       'onlyOnProfile': False,\n",
       "       'uRL': '',\n",
       "       'zverejnen': '2017-01-16T00:00:00'}],\n",
       "     'id': '5B7F2CC02D08439CC39F76E673234311',\n",
       "     'kriteria': [],\n",
       "     'lastUpdated': '2017-01-16T00:00:00',\n",
       "     'posledniZmena': '2017-01-16T00:00:00',\n",
       "     'zadavatel': {'iCO': '26816270', 'jmeno': 'D  & H Uničov s. r. o. '}},\n",
       "    '_type': 'verejnazakazka'},\n",
       "   {'_id': 'B42C95D4DA5EC1377B045DF4C3B0B8F4',\n",
       "    '_index': 'verejnezakazky_2018-02-13',\n",
       "    '_score': 1.8918245,\n",
       "    '_source': {'cPV': ['45234110-0'],\n",
       "     'dataset': 'VVZ-2016',\n",
       "     'datumUverejneni': '2017-08-14T00:00:00+02:00',\n",
       "     'datumUzavreniSmlouvy': '2016-05-16T00:00:00+02:00',\n",
       "     'displayId': 0,\n",
       "     'dodavatele': [{'iCO': '48029483', 'jmeno': 'AŽD Praha, s.r.o.'}],\n",
       "     'dokumenty': [],\n",
       "     'evidencniCisloZakazky': '630405',\n",
       "     'formulare': [{'cislo': 'F2017-022082',\n",
       "       'druh': 'F20',\n",
       "       'onlyOnProfile': False,\n",
       "       'uRL': '',\n",
       "       'zverejnen': '2017-08-14T00:00:00'}],\n",
       "     'id': 'B42C95D4DA5EC1377B045DF4C3B0B8F4',\n",
       "     'konecnaHodnotaBezDPH': 46907561.81,\n",
       "     'kriteria': [],\n",
       "     'lastUpdated': '2017-08-14T00:00:00',\n",
       "     'nazevZakazky': 'DOZ Břeclav\\n',\n",
       "     'odhadovanaHodnotaMena': 'CZK',\n",
       "     'posledniZmena': '2017-08-14T00:00:00',\n",
       "     'zadavatel': {'iCO': '70994234',\n",
       "      'jmeno': 'Správa železniční dopravní cesty, státní organizace'}},\n",
       "    '_type': 'verejnazakazka'},\n",
       "   {'_id': '3D5FBAE231B94D6844801F3051C69FBE',\n",
       "    '_index': 'verejnezakazky_2018-02-13',\n",
       "    '_score': 1.8918245,\n",
       "    '_source': {'cPV': [],\n",
       "     'dataset': 'VVZ-2016',\n",
       "     'datumUverejneni': '2017-10-27T00:00:00+02:00',\n",
       "     'displayId': 0,\n",
       "     'dodavatele': [],\n",
       "     'dokumenty': [],\n",
       "     'evidencniCisloZakazky': 'Z2017-030041',\n",
       "     'formulare': [{'cislo': 'F2017-030041',\n",
       "       'druh': 'CZ05',\n",
       "       'onlyOnProfile': False,\n",
       "       'uRL': '',\n",
       "       'zverejnen': '2017-10-27T00:00:00'}],\n",
       "     'id': '3D5FBAE231B94D6844801F3051C69FBE',\n",
       "     'kriteria': [],\n",
       "     'lastUpdated': '2017-10-27T00:00:00',\n",
       "     'posledniZmena': '2017-10-27T00:00:00',\n",
       "     'zadavatel': {'iCO': '27995771', 'jmeno': 'VIDEST s.r.o.'}},\n",
       "    '_type': 'verejnazakazka'},\n",
       "   {'_id': 'B006FF78A1C6ED0D04D9C41347972C1C',\n",
       "    '_index': 'verejnezakazky_2018-02-13',\n",
       "    '_score': 1.8918245,\n",
       "    '_source': {'cPV': [],\n",
       "     'dataset': 'VVZ-2016',\n",
       "     'datumUverejneni': '2016-11-28T00:00:00+01:00',\n",
       "     'displayId': 0,\n",
       "     'dodavatele': [],\n",
       "     'dokumenty': [],\n",
       "     'evidencniCisloZakazky': 'Z2016-004969',\n",
       "     'formulare': [{'cislo': 'F2016-004969',\n",
       "       'druh': 'CZ05',\n",
       "       'onlyOnProfile': False,\n",
       "       'uRL': '',\n",
       "       'zverejnen': '2016-11-28T00:00:00'}],\n",
       "     'id': 'B006FF78A1C6ED0D04D9C41347972C1C',\n",
       "     'kriteria': [],\n",
       "     'lastUpdated': '2016-11-28T00:00:00',\n",
       "     'posledniZmena': '2016-11-28T00:00:00',\n",
       "     'zadavatel': {'iCO': '00232076', 'jmeno': 'Městys Křivsoudov'}},\n",
       "    '_type': 'verejnazakazka'},\n",
       "   {'_id': '6302B54BF55D8DBD04D81F86F01E3461',\n",
       "    '_index': 'verejnezakazky_2018-02-13',\n",
       "    '_score': 1.8918245,\n",
       "    '_source': {'cPV': [],\n",
       "     'dataset': 'VVZ-2016',\n",
       "     'datumUverejneni': '2016-11-11T00:00:00+01:00',\n",
       "     'displayId': 0,\n",
       "     'dodavatele': [],\n",
       "     'dokumenty': [],\n",
       "     'evidencniCisloZakazky': 'Z2016-003780',\n",
       "     'formulare': [{'cislo': 'F2016-003780',\n",
       "       'druh': 'CZ05',\n",
       "       'onlyOnProfile': False,\n",
       "       'uRL': '',\n",
       "       'zverejnen': '2016-11-11T00:00:00'}],\n",
       "     'id': '6302B54BF55D8DBD04D81F86F01E3461',\n",
       "     'kriteria': [],\n",
       "     'lastUpdated': '2016-11-11T00:00:00',\n",
       "     'posledniZmena': '2016-11-11T00:00:00',\n",
       "     'zadavatel': {'iCO': '00636231', 'jmeno': 'Obec Grymov'}},\n",
       "    '_type': 'verejnazakazka'},\n",
       "   {'_id': '5913EC00824869C5A6F1BB0ED7AAFBBE',\n",
       "    '_index': 'verejnezakazky_2018-02-13',\n",
       "    '_score': 1.8918245,\n",
       "    '_source': {'cPV': [],\n",
       "     'dataset': 'VVZ-2016',\n",
       "     'datumUverejneni': '2016-10-13T00:00:00+02:00',\n",
       "     'displayId': 0,\n",
       "     'dodavatele': [],\n",
       "     'dokumenty': [],\n",
       "     'evidencniCisloZakazky': 'Z2016-000652',\n",
       "     'formulare': [{'cislo': 'F2016-000652',\n",
       "       'druh': 'CZ05',\n",
       "       'onlyOnProfile': False,\n",
       "       'uRL': '',\n",
       "       'zverejnen': '2016-10-13T00:00:00'}],\n",
       "     'id': '5913EC00824869C5A6F1BB0ED7AAFBBE',\n",
       "     'kriteria': [],\n",
       "     'lastUpdated': '2016-10-13T00:00:00',\n",
       "     'posledniZmena': '2016-10-13T00:00:00',\n",
       "     'zadavatel': {'iCO': '48452769', 'jmeno': 'MUDr. Pavel Kosík'}},\n",
       "    '_type': 'verejnazakazka'},\n",
       "   {'_id': '800D21900A624489FB4C55F05B47BB9C',\n",
       "    '_index': 'verejnezakazky_2018-02-13',\n",
       "    '_score': 1.8918245,\n",
       "    '_source': {'cPV': [],\n",
       "     'dataset': 'VVZ-2016',\n",
       "     'datumUverejneni': '2016-11-21T00:00:00+01:00',\n",
       "     'displayId': 0,\n",
       "     'dodavatele': [],\n",
       "     'dokumenty': [],\n",
       "     'evidencniCisloZakazky': 'Z2016-004402',\n",
       "     'formulare': [{'cislo': 'F2016-004402',\n",
       "       'druh': 'CZ05',\n",
       "       'onlyOnProfile': False,\n",
       "       'uRL': '',\n",
       "       'zverejnen': '2016-11-21T00:00:00'}],\n",
       "     'id': '800D21900A624489FB4C55F05B47BB9C',\n",
       "     'kriteria': [],\n",
       "     'lastUpdated': '2016-11-21T00:00:00',\n",
       "     'posledniZmena': '2016-11-21T00:00:00',\n",
       "     'zadavatel': {'iCO': '00636258', 'jmeno': 'Obec Horní Nětčice'}},\n",
       "    '_type': 'verejnazakazka'},\n",
       "   {'_id': 'C476523BB0BFC8C875EFF3FF019C9287',\n",
       "    '_index': 'verejnezakazky_2018-02-13',\n",
       "    '_score': 1.8918245,\n",
       "    '_source': {'cPV': [],\n",
       "     'dataset': 'VVZ-2016',\n",
       "     'datumUverejneni': '2017-03-22T00:00:00+01:00',\n",
       "     'displayId': 0,\n",
       "     'dodavatele': [],\n",
       "     'dokumenty': [],\n",
       "     'evidencniCisloZakazky': 'Z2017-007396',\n",
       "     'formulare': [{'cislo': 'F2017-007396',\n",
       "       'druh': 'CZ05',\n",
       "       'onlyOnProfile': False,\n",
       "       'uRL': '',\n",
       "       'zverejnen': '2017-03-22T00:00:00'}],\n",
       "     'id': 'C476523BB0BFC8C875EFF3FF019C9287',\n",
       "     'kriteria': [],\n",
       "     'lastUpdated': '2017-03-22T00:00:00',\n",
       "     'posledniZmena': '2017-03-22T00:00:00',\n",
       "     'zadavatel': {'iCO': '00277517', 'jmeno': 'Obec Třebařov'}},\n",
       "    '_type': 'verejnazakazka'}],\n",
       "  'max_score': 1.8918245,\n",
       "  'total': 28686},\n",
       " 'timed_out': False,\n",
       " 'took': 11}"
      ]
     },
     "execution_count": 23,
     "metadata": {},
     "output_type": "execute_result"
    }
   ],
   "source": [
    "body={\"query\": {\"term\": {\"dataset\": \"VVZ-2016\"}}}\n",
    "es.search(**docs_vz, body=body)"
   ]
  },
  {
   "cell_type": "markdown",
   "metadata": {},
   "source": [
    "## Profily zadavatele"
   ]
  },
  {
   "cell_type": "code",
   "execution_count": 14,
   "metadata": {
    "ExecuteTime": {
     "end_time": "2018-03-18T08:56:08.012796Z",
     "start_time": "2018-03-18T08:56:08.001788Z"
    }
   },
   "outputs": [
    {
     "name": "stdout",
     "output_type": "stream",
     "text": [
      "Total count:\n"
     ]
    },
    {
     "data": {
      "text/plain": [
       "18859"
      ]
     },
     "execution_count": 14,
     "metadata": {},
     "output_type": "execute_result"
    }
   ],
   "source": [
    "print(\"Total count:\")\n",
    "es.count(**docs_pz)['count']"
   ]
  },
  {
   "cell_type": "code",
   "execution_count": 15,
   "metadata": {
    "ExecuteTime": {
     "end_time": "2018-03-18T08:56:11.387227Z",
     "start_time": "2018-03-18T08:56:11.204702Z"
    }
   },
   "outputs": [
    {
     "data": {
      "text/plain": [
       "{'_id': 'VVZ-2016-403861',\n",
       " '_index': 'verejnezakazky_2018-02-13',\n",
       " '_score': 1.0,\n",
       " '_source': {'dataSet': 'VVZ-2016',\n",
       "  'datumUverejneni': '2014-12-09T00:00:00+01:00',\n",
       "  'evidencniCisloFormulare': 'F2014-552076',\n",
       "  'evidencniCisloProfilu': '403861',\n",
       "  'id': 'VVZ-2016-403861',\n",
       "  'lastAccess': '2018-02-08T19:31:56.7769608+01:00',\n",
       "  'lastAccessResult': 0,\n",
       "  'url': 'http://enjoy-trade.profilzadavatele.cz/',\n",
       "  'zadavatel': {'iCO': '26950707', 'jmeno': 'Enjoy Trade, s.r.o.'}},\n",
       " '_type': 'profilzadavatele'}"
      ]
     },
     "execution_count": 15,
     "metadata": {},
     "output_type": "execute_result"
    }
   ],
   "source": [
    "ds = es.search(**docs_pz)['hits']['hits']\n",
    "ds[0]"
   ]
  }
 ],
 "metadata": {
  "kernelspec": {
   "display_name": "Python 3",
   "language": "python",
   "name": "python3"
  },
  "language_info": {
   "codemirror_mode": {
    "name": "ipython",
    "version": 3
   },
   "file_extension": ".py",
   "mimetype": "text/x-python",
   "name": "python",
   "nbconvert_exporter": "python",
   "pygments_lexer": "ipython3",
   "version": "3.6.4"
  }
 },
 "nbformat": 4,
 "nbformat_minor": 2
}
