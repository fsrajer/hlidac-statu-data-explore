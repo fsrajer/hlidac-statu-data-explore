{
 "cells": [
  {
   "cell_type": "markdown",
   "metadata": {},
   "source": [
    "# Explore verejne zakazky\n",
    "elastic search should be running for this"
   ]
  },
  {
   "cell_type": "code",
   "execution_count": 1,
   "metadata": {
    "ExecuteTime": {
     "end_time": "2018-03-18T08:53:16.010649Z",
     "start_time": "2018-03-18T08:53:14.914723Z"
    }
   },
   "outputs": [],
   "source": [
    "from elasticsearch import Elasticsearch\n",
    "es = Elasticsearch()"
   ]
  },
  {
   "cell_type": "code",
   "execution_count": 2,
   "metadata": {
    "ExecuteTime": {
     "end_time": "2018-03-18T08:53:17.663497Z",
     "start_time": "2018-03-18T08:53:17.655507Z"
    }
   },
   "outputs": [],
   "source": [
    "index = 'verejnezakazky_2018-02-13'\n",
    "type_vz = 'verejnazakazka'\n",
    "type_pz = 'profilzadavatele'\n",
    "docs_vz = {'index': index, 'doc_type': type_vz}\n",
    "docs_pz = {'index': index, 'doc_type': type_pz}"
   ]
  },
  {
   "cell_type": "markdown",
   "metadata": {},
   "source": [
    "## Verejne zakazky"
   ]
  },
  {
   "cell_type": "code",
   "execution_count": 3,
   "metadata": {
    "ExecuteTime": {
     "end_time": "2018-03-18T08:53:20.879776Z",
     "start_time": "2018-03-18T08:53:19.390784Z"
    }
   },
   "outputs": [
    {
     "name": "stdout",
     "output_type": "stream",
     "text": [
      "Total count:\n"
     ]
    },
    {
     "data": {
      "text/plain": [
       "185790"
      ]
     },
     "execution_count": 3,
     "metadata": {},
     "output_type": "execute_result"
    }
   ],
   "source": [
    "print(\"Total count:\")\n",
    "vz_total = es.count(**docs_vz)['count']\n",
    "vz_total"
   ]
  },
  {
   "cell_type": "code",
   "execution_count": 6,
   "metadata": {
    "ExecuteTime": {
     "end_time": "2018-03-18T08:53:51.465690Z",
     "start_time": "2018-03-18T08:53:51.450680Z"
    }
   },
   "outputs": [
    {
     "data": {
      "text/plain": [
       "{'_id': '8700CC9E1FF5D48FD7F29DC100B35B85',\n",
       " '_index': 'verejnezakazky_2018-02-13',\n",
       " '_score': 1.0,\n",
       " '_source': {'cPV': ['16000000-5'],\n",
       "  'dataset': 'VVZ-2006',\n",
       "  'datumUverejneni': '2014-09-09T00:00:00',\n",
       "  'displayId': 0,\n",
       "  'dodavatele': [],\n",
       "  'dokumenty': [],\n",
       "  'evidencniCisloZakazky': '496393',\n",
       "  'formulare': [{'cislo': '7452010096393',\n",
       "    'druh': 'F52',\n",
       "    'onlyOnProfile': False,\n",
       "    'uRL': '',\n",
       "    'zverejnen': '2014-09-09T00:00:00'}],\n",
       "  'id': '8700CC9E1FF5D48FD7F29DC100B35B85',\n",
       "  'kriteria': [],\n",
       "  'lastUpdated': '0001-01-01T00:00:00',\n",
       "  'posledniZmena': '2014-09-09T00:00:00',\n",
       "  'zadavatel': {'iCO': '62698044', 'jmeno': 'Pavel Francl'}},\n",
       " '_type': 'verejnazakazka'}"
      ]
     },
     "execution_count": 6,
     "metadata": {},
     "output_type": "execute_result"
    }
   ],
   "source": [
    "ds = es.search(**docs_vz)['hits']['hits']\n",
    "ds[0]"
   ]
  },
  {
   "cell_type": "code",
   "execution_count": 8,
   "metadata": {
    "ExecuteTime": {
     "end_time": "2018-03-18T08:54:18.896372Z",
     "start_time": "2018-03-18T08:54:18.891378Z"
    }
   },
   "outputs": [],
   "source": [
    "def n_unique(docs_param, field):    \n",
    "    body = {'size': 0,\n",
    "            'aggs': {'distinct_ids': {'cardinality': {'field': field}}}}\n",
    "    return es.search(**docs_param, body=body)['aggregations']['distinct_ids']['value']"
   ]
  },
  {
   "cell_type": "markdown",
   "metadata": {},
   "source": [
    "Is `evidencniCisloZakazky` and `id` unique? "
   ]
  },
  {
   "cell_type": "code",
   "execution_count": 16,
   "metadata": {
    "ExecuteTime": {
     "end_time": "2018-03-18T08:57:44.382268Z",
     "start_time": "2018-03-18T08:57:44.349243Z"
    }
   },
   "outputs": [
    {
     "name": "stdout",
     "output_type": "stream",
     "text": [
      "evidencniCisloZakazky: approx. 180428/185790\n",
      "id.keyword: approx. 187747/185790\n",
      "displayId: approx. 1/185790\n"
     ]
    }
   ],
   "source": [
    "def print_n_unique(field):\n",
    "    print(f\"{field}: approx. {n_unique(docs_vz, field)}/{vz_total}\")\n",
    "print_n_unique('evidencniCisloZakazky')\n",
    "print_n_unique('id.keyword')\n",
    "print_n_unique('displayId')"
   ]
  },
  {
   "cell_type": "markdown",
   "metadata": {},
   "source": [
    "## Profily zadavatele"
   ]
  },
  {
   "cell_type": "code",
   "execution_count": 14,
   "metadata": {
    "ExecuteTime": {
     "end_time": "2018-03-18T08:56:08.012796Z",
     "start_time": "2018-03-18T08:56:08.001788Z"
    }
   },
   "outputs": [
    {
     "name": "stdout",
     "output_type": "stream",
     "text": [
      "Total count:\n"
     ]
    },
    {
     "data": {
      "text/plain": [
       "18859"
      ]
     },
     "execution_count": 14,
     "metadata": {},
     "output_type": "execute_result"
    }
   ],
   "source": [
    "print(\"Total count:\")\n",
    "es.count(**docs_pz)['count']"
   ]
  },
  {
   "cell_type": "code",
   "execution_count": 15,
   "metadata": {
    "ExecuteTime": {
     "end_time": "2018-03-18T08:56:11.387227Z",
     "start_time": "2018-03-18T08:56:11.204702Z"
    }
   },
   "outputs": [
    {
     "data": {
      "text/plain": [
       "{'_id': 'VVZ-2016-403861',\n",
       " '_index': 'verejnezakazky_2018-02-13',\n",
       " '_score': 1.0,\n",
       " '_source': {'dataSet': 'VVZ-2016',\n",
       "  'datumUverejneni': '2014-12-09T00:00:00+01:00',\n",
       "  'evidencniCisloFormulare': 'F2014-552076',\n",
       "  'evidencniCisloProfilu': '403861',\n",
       "  'id': 'VVZ-2016-403861',\n",
       "  'lastAccess': '2018-02-08T19:31:56.7769608+01:00',\n",
       "  'lastAccessResult': 0,\n",
       "  'url': 'http://enjoy-trade.profilzadavatele.cz/',\n",
       "  'zadavatel': {'iCO': '26950707', 'jmeno': 'Enjoy Trade, s.r.o.'}},\n",
       " '_type': 'profilzadavatele'}"
      ]
     },
     "execution_count": 15,
     "metadata": {},
     "output_type": "execute_result"
    }
   ],
   "source": [
    "ds = es.search(**docs_pz)['hits']['hits']\n",
    "ds[0]"
   ]
  }
 ],
 "metadata": {
  "kernelspec": {
   "display_name": "Python 3",
   "language": "python",
   "name": "python3"
  },
  "language_info": {
   "codemirror_mode": {
    "name": "ipython",
    "version": 3
   },
   "file_extension": ".py",
   "mimetype": "text/x-python",
   "name": "python",
   "nbconvert_exporter": "python",
   "pygments_lexer": "ipython3",
   "version": "3.6.4"
  }
 },
 "nbformat": 4,
 "nbformat_minor": 2
}
