{
 "cells": [
  {
   "cell_type": "markdown",
   "metadata": {},
   "source": [
    "# Explore verejne zakazky\n",
    "elastic search should be running for this"
   ]
  },
  {
   "cell_type": "code",
   "execution_count": 1,
   "metadata": {
    "ExecuteTime": {
     "end_time": "2018-03-18T08:53:16.010649Z",
     "start_time": "2018-03-18T08:53:14.914723Z"
    }
   },
   "outputs": [],
   "source": [
    "from elasticsearch import Elasticsearch\n",
    "from exploretools import Explorer\n",
    "es = Elasticsearch()\n",
    "ex = Explorer(es)"
   ]
  },
  {
   "cell_type": "code",
   "execution_count": 2,
   "metadata": {
    "ExecuteTime": {
     "end_time": "2018-03-18T08:53:17.663497Z",
     "start_time": "2018-03-18T08:53:17.655507Z"
    }
   },
   "outputs": [],
   "source": [
    "index = 'verejnezakazky_2018-02-13'\n",
    "type_vz = 'verejnazakazka'\n",
    "type_pz = 'profilzadavatele'\n",
    "docs_vz = {'index': index, 'doc_type': type_vz}\n",
    "docs_pz = {'index': index, 'doc_type': type_pz}"
   ]
  },
  {
   "cell_type": "markdown",
   "metadata": {},
   "source": [
    "## Verejne zakazky"
   ]
  },
  {
   "cell_type": "code",
   "execution_count": 3,
   "metadata": {
    "ExecuteTime": {
     "end_time": "2018-03-18T08:53:20.879776Z",
     "start_time": "2018-03-18T08:53:19.390784Z"
    }
   },
   "outputs": [
    {
     "name": "stdout",
     "output_type": "stream",
     "text": [
      "Total count:\n"
     ]
    },
    {
     "data": {
      "text/plain": [
       "185790"
      ]
     },
     "execution_count": 3,
     "metadata": {},
     "output_type": "execute_result"
    }
   ],
   "source": [
    "print(\"Total count:\")\n",
    "vz_total = es.count(**docs_vz)['count']\n",
    "vz_total"
   ]
  },
  {
   "cell_type": "code",
   "execution_count": 6,
   "metadata": {
    "ExecuteTime": {
     "end_time": "2018-03-18T08:53:51.465690Z",
     "start_time": "2018-03-18T08:53:51.450680Z"
    }
   },
   "outputs": [
    {
     "data": {
      "text/plain": [
       "{'_id': '8700CC9E1FF5D48FD7F29DC100B35B85',\n",
       " '_index': 'verejnezakazky_2018-02-13',\n",
       " '_score': 1.0,\n",
       " '_source': {'cPV': ['16000000-5'],\n",
       "  'dataset': 'VVZ-2006',\n",
       "  'datumUverejneni': '2014-09-09T00:00:00',\n",
       "  'displayId': 0,\n",
       "  'dodavatele': [],\n",
       "  'dokumenty': [],\n",
       "  'evidencniCisloZakazky': '496393',\n",
       "  'formulare': [{'cislo': '7452010096393',\n",
       "    'druh': 'F52',\n",
       "    'onlyOnProfile': False,\n",
       "    'uRL': '',\n",
       "    'zverejnen': '2014-09-09T00:00:00'}],\n",
       "  'id': '8700CC9E1FF5D48FD7F29DC100B35B85',\n",
       "  'kriteria': [],\n",
       "  'lastUpdated': '0001-01-01T00:00:00',\n",
       "  'posledniZmena': '2014-09-09T00:00:00',\n",
       "  'zadavatel': {'iCO': '62698044', 'jmeno': 'Pavel Francl'}},\n",
       " '_type': 'verejnazakazka'}"
      ]
     },
     "execution_count": 6,
     "metadata": {},
     "output_type": "execute_result"
    }
   ],
   "source": [
    "ds = es.search(**docs_vz)['hits']['hits']\n",
    "ds[0]"
   ]
  },
  {
   "cell_type": "markdown",
   "metadata": {},
   "source": [
    "Is `evidencniCisloZakazky` and `id` unique? "
   ]
  },
  {
   "cell_type": "code",
   "execution_count": 107,
   "metadata": {
    "ExecuteTime": {
     "end_time": "2018-03-18T10:00:22.400772Z",
     "start_time": "2018-03-18T09:59:55.678094Z"
    }
   },
   "outputs": [
    {
     "name": "stdout",
     "output_type": "stream",
     "text": [
      "evidencniCisloZakazky: \n",
      "Went through 185790 entries.\n",
      "Found 180171 unique entries.\n",
      "id: \n",
      "Went through 185790 entries.\n",
      "Found 185790 unique entries.\n",
      "displayId: \n",
      "Went through 185790 entries.\n",
      "Found 1 unique entries.\n"
     ]
    }
   ],
   "source": [
    "def print_n_unique(field):\n",
    "    print(f\"{field}: \")\n",
    "    ex.n_unique_exact(docs_vz, field)\n",
    "print_n_unique('evidencniCisloZakazky')\n",
    "print_n_unique('id')\n",
    "print_n_unique('displayId')"
   ]
  },
  {
   "cell_type": "code",
   "execution_count": 116,
   "metadata": {
    "ExecuteTime": {
     "end_time": "2018-03-18T10:14:27.750197Z",
     "start_time": "2018-03-18T10:14:18.740191Z"
    }
   },
   "outputs": [
    {
     "name": "stdout",
     "output_type": "stream",
     "text": [
      "Went through 185790 entries.\n",
      "Found 180171 unique entries.\n"
     ]
    },
    {
     "data": {
      "text/plain": [
       "638866    2\n",
       "638683    2\n",
       "638650    2\n",
       "404824    2\n",
       "638656    2\n",
       "dtype: int64"
      ]
     },
     "execution_count": 116,
     "metadata": {},
     "output_type": "execute_result"
    }
   ],
   "source": [
    "cnts = ex.value_counts_exact(docs_vz, 'evidencniCisloZakazky')\n",
    "cnts.head()"
   ]
  },
  {
   "cell_type": "markdown",
   "metadata": {},
   "source": [
    "Check how do the duplicit entries look like."
   ]
  },
  {
   "cell_type": "code",
   "execution_count": 120,
   "metadata": {
    "ExecuteTime": {
     "end_time": "2018-03-18T10:16:24.900714Z",
     "start_time": "2018-03-18T10:16:24.886689Z"
    }
   },
   "outputs": [
    {
     "data": {
      "text/plain": [
       "[{'_id': 'F00975C4A9CC72DD0087E6622F416D86',\n",
       "  '_index': 'verejnezakazky_2018-02-13',\n",
       "  '_score': 10.115287,\n",
       "  '_source': {'cPV': ['35125300-2'],\n",
       "   'dataset': 'VVZ-2016',\n",
       "   'datumUverejneni': '2016-10-27T00:00:00+02:00',\n",
       "   'datumUzavreniSmlouvy': '2016-10-14T00:00:00+02:00',\n",
       "   'displayId': 0,\n",
       "   'dodavatele': [{'iCO': '25229397', 'jmeno': 'SUPTel a.s.'}],\n",
       "   'dokumenty': [],\n",
       "   'evidencniCisloZakazky': '638656',\n",
       "   'formulare': [{'cislo': 'F2016-001786',\n",
       "     'druh': 'F03',\n",
       "     'onlyOnProfile': False,\n",
       "     'uRL': '',\n",
       "     'zverejnen': '2016-10-27T00:00:00'}],\n",
       "   'id': 'F00975C4A9CC72DD0087E6622F416D86',\n",
       "   'konecnaHodnotaBezDPH': 790942,\n",
       "   'konecnaHodnotaMena': 'CZK',\n",
       "   'kriteria': [],\n",
       "   'lastUpdated': '2016-10-27T00:00:00',\n",
       "   'nazevZakazky': 'Rozšíření Městského kamerového systému v\\xa0Plzni – lokalita Severní předměstí\\n',\n",
       "   'odhadovanaHodnotaBezDPH': 811667,\n",
       "   'odhadovanaHodnotaMena': 'CZK',\n",
       "   'popisZakazky': 'Předmětem plnění veřejné zakázky v rámci tohoto zadávacího řízení je realizace akce s názvem „Rozšíření Městského kamerového systému v Plzni – lokalita Severní předměstí“. \\nTato akce zahrnuje zejména tyto činnosti: \\n1. Instalace kamer\\n2. Vybudování příslušných přenosových a napájecích rozvodů\\n3. Oživení včetně závěrečného měření a integrace do Městského kamerového systému v Plzni.\\n',\n",
       "   'posledniZmena': '2016-10-27T00:00:00',\n",
       "   'stavVZ': 300,\n",
       "   'stavZakazky': 300,\n",
       "   'zadavatel': {'iCO': '00075370',\n",
       "    'jmeno': 'Statutární město Plzeň zastoupené SPRÁVOU VEŘEJNÉHO STATKU MĚSTA PLZNĚ'}},\n",
       "  '_type': 'verejnazakazka'},\n",
       " {'_id': '652BA4A09921DCE27A70E1E2EF6FE846',\n",
       "  '_index': 'verejnezakazky_2018-02-13',\n",
       "  '_score': 10.114288,\n",
       "  '_source': {'cPV': ['35125300-2'],\n",
       "   'dataset': 'VVZ-2006',\n",
       "   'datumUverejneni': '2016-05-18T00:00:00',\n",
       "   'displayId': 0,\n",
       "   'dodavatele': [],\n",
       "   'dokumenty': [],\n",
       "   'evidencniCisloZakazky': '638656',\n",
       "   'formulare': [{'cislo': '7602011038656',\n",
       "     'druh': 'F02',\n",
       "     'onlyOnProfile': False,\n",
       "     'uRL': '',\n",
       "     'zverejnen': '2016-06-23T00:00:00'},\n",
       "    {'cislo': '7602021038656',\n",
       "     'druh': 'F02',\n",
       "     'onlyOnProfile': False,\n",
       "     'uRL': '',\n",
       "     'zverejnen': '2016-07-15T00:00:00'},\n",
       "    {'cislo': '7601011038656',\n",
       "     'druh': 'F01',\n",
       "     'onlyOnProfile': False,\n",
       "     'uRL': '',\n",
       "     'zverejnen': '2016-05-18T00:00:00'}],\n",
       "   'id': '652BA4A09921DCE27A70E1E2EF6FE846',\n",
       "   'kriteria': [],\n",
       "   'lastUpdated': '0001-01-01T00:00:00',\n",
       "   'nazevZakazky': 'Rozšíření Městského kamerového systému v Plzni – lokalita Severní předměstí',\n",
       "   'odhadovanaHodnotaBezDPH': 811667,\n",
       "   'popisZakazky': 'Předmětem plnění veřejné zakázky v rámci tohoto zadávacího řízení je realizace akce s názvem „Rozšíření Městského kamerového systému v Plzni – lokalita Severní předměstí“. \\nTato akce zahrnuje zejména tyto činnosti: \\n1. Instalace kamer\\n2. Vybudování příslušných přenosových a napájecích rozvodů\\n3. Oživení včetně závěrečného měření a integrace do Městského kamerového systému v Plzni.',\n",
       "   'posledniZmena': '2016-07-15T00:00:00',\n",
       "   'stavVZ': 100,\n",
       "   'stavZakazky': 100,\n",
       "   'zadavatel': {'iCO': '00075370',\n",
       "    'jmeno': 'Statutární město Plzeň zastoupené SPRÁVOU VEŘEJNÉHO STATKU MĚSTA PLZNĚ'}},\n",
       "  '_type': 'verejnazakazka'}]"
      ]
     },
     "execution_count": 120,
     "metadata": {},
     "output_type": "execute_result"
    }
   ],
   "source": [
    "def get_by_field(docs_param, field, value):\n",
    "    body = {'query': {'term': {field: value}}}\n",
    "    return es.search(**docs_param, body=body)['hits']['hits']\n",
    "get_by_field(docs_vz, 'evidencniCisloZakazky', 638656)"
   ]
  },
  {
   "cell_type": "markdown",
   "metadata": {},
   "source": [
    "OK, it looks like conversion from dataset VVZ-2006 to VVZ-2016.\n",
    "Lets check the dataset counts."
   ]
  },
  {
   "cell_type": "code",
   "execution_count": 109,
   "metadata": {
    "ExecuteTime": {
     "end_time": "2018-03-18T10:00:44.067480Z",
     "start_time": "2018-03-18T10:00:35.388896Z"
    }
   },
   "outputs": [
    {
     "name": "stdout",
     "output_type": "stream",
     "text": [
      "Went through 185790 entries.\n",
      "Found 2 unique entries.\n"
     ]
    },
    {
     "data": {
      "text/plain": [
       "VVZ-2006    157104\n",
       "VVZ-2016     28686\n",
       "dtype: int64"
      ]
     },
     "execution_count": 109,
     "metadata": {},
     "output_type": "execute_result"
    }
   ],
   "source": [
    "cnts = ex.value_counts_exact(docs_vz, 'dataset')\n",
    "cnts.head()"
   ]
  },
  {
   "cell_type": "markdown",
   "metadata": {},
   "source": [
    "## Profily zadavatele"
   ]
  },
  {
   "cell_type": "code",
   "execution_count": 14,
   "metadata": {
    "ExecuteTime": {
     "end_time": "2018-03-18T08:56:08.012796Z",
     "start_time": "2018-03-18T08:56:08.001788Z"
    }
   },
   "outputs": [
    {
     "name": "stdout",
     "output_type": "stream",
     "text": [
      "Total count:\n"
     ]
    },
    {
     "data": {
      "text/plain": [
       "18859"
      ]
     },
     "execution_count": 14,
     "metadata": {},
     "output_type": "execute_result"
    }
   ],
   "source": [
    "print(\"Total count:\")\n",
    "es.count(**docs_pz)['count']"
   ]
  },
  {
   "cell_type": "code",
   "execution_count": 15,
   "metadata": {
    "ExecuteTime": {
     "end_time": "2018-03-18T08:56:11.387227Z",
     "start_time": "2018-03-18T08:56:11.204702Z"
    }
   },
   "outputs": [
    {
     "data": {
      "text/plain": [
       "{'_id': 'VVZ-2016-403861',\n",
       " '_index': 'verejnezakazky_2018-02-13',\n",
       " '_score': 1.0,\n",
       " '_source': {'dataSet': 'VVZ-2016',\n",
       "  'datumUverejneni': '2014-12-09T00:00:00+01:00',\n",
       "  'evidencniCisloFormulare': 'F2014-552076',\n",
       "  'evidencniCisloProfilu': '403861',\n",
       "  'id': 'VVZ-2016-403861',\n",
       "  'lastAccess': '2018-02-08T19:31:56.7769608+01:00',\n",
       "  'lastAccessResult': 0,\n",
       "  'url': 'http://enjoy-trade.profilzadavatele.cz/',\n",
       "  'zadavatel': {'iCO': '26950707', 'jmeno': 'Enjoy Trade, s.r.o.'}},\n",
       " '_type': 'profilzadavatele'}"
      ]
     },
     "execution_count": 15,
     "metadata": {},
     "output_type": "execute_result"
    }
   ],
   "source": [
    "ds = es.search(**docs_pz)['hits']['hits']\n",
    "ds[0]"
   ]
  }
 ],
 "metadata": {
  "kernelspec": {
   "display_name": "Python 3",
   "language": "python",
   "name": "python3"
  },
  "language_info": {
   "codemirror_mode": {
    "name": "ipython",
    "version": 3
   },
   "file_extension": ".py",
   "mimetype": "text/x-python",
   "name": "python",
   "nbconvert_exporter": "python",
   "pygments_lexer": "ipython3",
   "version": "3.6.4"
  }
 },
 "nbformat": 4,
 "nbformat_minor": 2
}
