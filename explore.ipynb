{
 "cells": [
  {
   "cell_type": "code",
   "execution_count": null,
   "metadata": {
    "ExecuteTime": {
     "end_time": "2018-02-01T06:31:59.835932Z",
     "start_time": "2018-02-01T06:31:58.192588Z"
    },
    "collapsed": true
   },
   "outputs": [],
   "source": [
    "import pandas as pd\n",
    "import dask.bag as db\n",
    "import json\n",
    "\n",
    "# base_fn = \"smlouvy\"\n",
    "base_fn = \"smlouvy-2018-01-26\"\n",
    "\n",
    "data_base_fn = f\"data/hlidac/{base_fn}_lines_*.txt.gz\""
   ]
  },
  {
   "cell_type": "code",
   "execution_count": null,
   "metadata": {
    "ExecuteTime": {
     "end_time": "2018-02-01T06:48:54.756174Z",
     "start_time": "2018-02-01T06:48:52.306177Z"
    }
   },
   "outputs": [],
   "source": [
    "lines = db.read_text(data_base_fn)\n",
    "data = lines.map(json.loads).map(lambda x: (x['hodnotaVcetneDph'], x['CalculatedPriceWithVATinCZK']))\n",
    "res=data.to_dataframe().compute()"
   ]
  },
  {
   "cell_type": "code",
   "execution_count": null,
   "metadata": {
    "ExecuteTime": {
     "end_time": "2018-02-01T06:52:56.517765Z",
     "start_time": "2018-02-01T06:52:56.043429Z"
    }
   },
   "outputs": [],
   "source": [
    "lines.map(json.loads).take(1)[0].keys()"
   ]
  }
 ],
 "metadata": {
  "kernelspec": {
   "display_name": "Python 3",
   "language": "python",
   "name": "python3"
  },
  "language_info": {
   "codemirror_mode": {
    "name": "ipython",
    "version": 3
   },
   "file_extension": ".py",
   "mimetype": "text/x-python",
   "name": "python",
   "nbconvert_exporter": "python",
   "pygments_lexer": "ipython3",
   "version": "3.6.3"
  }
 },
 "nbformat": 4,
 "nbformat_minor": 2
}
