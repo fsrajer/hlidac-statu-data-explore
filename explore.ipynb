{
 "cells": [
  {
   "cell_type": "code",
   "execution_count": null,
   "metadata": {
    "ExecuteTime": {
     "end_time": "2018-02-04T08:58:04.427336Z",
     "start_time": "2018-02-04T08:58:03.892954Z"
    },
    "collapsed": true
   },
   "outputs": [],
   "source": [
    "import pandas as pd\n",
    "import dask.bag as db\n",
    "import json\n",
    "\n",
    "base_fn = \"smlouvy\"\n",
    "# base_fn = \"smlouvy-2018-01-26\"\n",
    "\n",
    "data_base_fn = f\"data/hlidac/{base_fn}_lines_*.txt.gz\""
   ]
  },
  {
   "cell_type": "code",
   "execution_count": null,
   "metadata": {
    "ExecuteTime": {
     "end_time": "2018-02-04T08:58:17.908798Z",
     "start_time": "2018-02-04T08:58:17.401448Z"
    }
   },
   "outputs": [],
   "source": [
    "lines = db.read_text(data_base_fn)\n",
    "lines.map(json.loads).take(1)[0].keys()"
   ]
  },
  {
   "cell_type": "code",
   "execution_count": null,
   "metadata": {
    "ExecuteTime": {
     "end_time": "2018-02-04T08:55:32.089319Z",
     "start_time": "2018-02-04T08:55:32.084316Z"
    },
    "collapsed": true
   },
   "outputs": [],
   "source": [
    "def extract_fields(contract):\n",
    "    id = contract['identifikator']\n",
    "    return (id['idSmlouvy'], id['idVerze'], contract['Id'])\n",
    "col_names=['idSmlouvy', 'idVerze', 'Id']"
   ]
  },
  {
   "cell_type": "code",
   "execution_count": null,
   "metadata": {
    "ExecuteTime": {
     "end_time": "2018-02-04T08:56:04.758289Z",
     "start_time": "2018-02-04T08:56:04.304477Z"
    }
   },
   "outputs": [],
   "source": [
    "data = lines.map(json.loads).map(extract_fields)\n",
    "df_ = data.to_dataframe()\n",
    "df_.columns = col_names\n",
    "df_"
   ]
  },
  {
   "cell_type": "code",
   "execution_count": null,
   "metadata": {
    "ExecuteTime": {
     "end_time": "2018-02-04T08:56:18.991089Z",
     "start_time": "2018-02-04T08:56:17.251420Z"
    }
   },
   "outputs": [],
   "source": [
    "df = df_.compute()\n",
    "df.head()"
   ]
  },
  {
   "cell_type": "code",
   "execution_count": null,
   "metadata": {
    "ExecuteTime": {
     "end_time": "2018-02-04T08:56:31.386301Z",
     "start_time": "2018-02-04T08:56:31.378296Z"
    }
   },
   "outputs": [],
   "source": [
    "(df['Id'] == df['idVerze']).all()"
   ]
  },
  {
   "cell_type": "code",
   "execution_count": null,
   "metadata": {
    "ExecuteTime": {
     "end_time": "2018-02-04T08:56:45.770010Z",
     "start_time": "2018-02-04T08:56:45.710279Z"
    }
   },
   "outputs": [],
   "source": [
    "df.nunique()"
   ]
  }
 ],
 "metadata": {
  "kernelspec": {
   "display_name": "Python 3",
   "language": "python",
   "name": "python3"
  },
  "language_info": {
   "codemirror_mode": {
    "name": "ipython",
    "version": 3
   },
   "file_extension": ".py",
   "mimetype": "text/x-python",
   "name": "python",
   "nbconvert_exporter": "python",
   "pygments_lexer": "ipython3",
   "version": "3.6.3"
  }
 },
 "nbformat": 4,
 "nbformat_minor": 2
}
