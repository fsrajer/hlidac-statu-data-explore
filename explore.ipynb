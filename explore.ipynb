{
 "cells": [
  {
   "cell_type": "code",
   "execution_count": null,
   "metadata": {
    "collapsed": true
   },
   "outputs": [],
   "source": [
    "import pandas as pd\n",
    "import json\n",
    "import dask.bag as db\n",
    "from dask.distributed import Client\n",
    "client = Client()\n",
    "# check status at: http://localhost:8787/"
   ]
  },
  {
   "cell_type": "code",
   "execution_count": null,
   "metadata": {
    "ExecuteTime": {
     "end_time": "2018-02-04T09:18:35.420574Z",
     "start_time": "2018-02-04T09:18:35.416055Z"
    },
    "collapsed": true
   },
   "outputs": [],
   "source": [
    "base_fn = \"smlouvy\"\n",
    "# base_fn = \"smlouvy-2018-01-26\"\n",
    "\n",
    "data_base_fn = f\"data/hlidac/{base_fn}_lines_*.txt.gz\""
   ]
  },
  {
   "cell_type": "code",
   "execution_count": null,
   "metadata": {
    "ExecuteTime": {
     "end_time": "2018-02-04T09:18:37.045995Z",
     "start_time": "2018-02-04T09:18:36.997962Z"
    }
   },
   "outputs": [],
   "source": [
    "lines = db.read_text(data_base_fn)\n",
    "lines.map(json.loads).take(1)[0].keys()"
   ]
  },
  {
   "cell_type": "code",
   "execution_count": null,
   "metadata": {
    "ExecuteTime": {
     "end_time": "2018-02-04T09:18:38.455274Z",
     "start_time": "2018-02-04T09:18:38.449783Z"
    },
    "collapsed": true
   },
   "outputs": [],
   "source": [
    "def extract_fields(contract):\n",
    "    return (contract['Id'])\n",
    "col_names=['Id']"
   ]
  },
  {
   "cell_type": "code",
   "execution_count": null,
   "metadata": {
    "ExecuteTime": {
     "end_time": "2018-02-04T09:18:40.360075Z",
     "start_time": "2018-02-04T09:18:40.302534Z"
    }
   },
   "outputs": [],
   "source": [
    "data = lines.map(json.loads).map(extract_fields)\n",
    "df_ = data.to_dataframe()\n",
    "df_.columns = col_names\n",
    "df_"
   ]
  },
  {
   "cell_type": "code",
   "execution_count": null,
   "metadata": {
    "ExecuteTime": {
     "end_time": "2018-02-04T09:25:17.285851Z",
     "start_time": "2018-02-04T09:18:44.769238Z"
    }
   },
   "outputs": [],
   "source": [
    "df = df_.compute()\n",
    "df.head()"
   ]
  },
  {
   "cell_type": "code",
   "execution_count": null,
   "metadata": {
    "ExecuteTime": {
     "end_time": "2018-02-04T09:25:53.432290Z",
     "start_time": "2018-02-04T09:25:53.169130Z"
    }
   },
   "outputs": [],
   "source": [
    "(df['Id'] == df['idVerze']).all()"
   ]
  },
  {
   "cell_type": "code",
   "execution_count": null,
   "metadata": {
    "ExecuteTime": {
     "end_time": "2018-02-04T09:25:57.231459Z",
     "start_time": "2018-02-04T09:25:56.396133Z"
    }
   },
   "outputs": [],
   "source": [
    "df.nunique()"
   ]
  }
 ],
 "metadata": {
  "kernelspec": {
   "display_name": "Python 3",
   "language": "python",
   "name": "python3"
  },
  "language_info": {
   "codemirror_mode": {
    "name": "ipython",
    "version": 3
   },
   "file_extension": ".py",
   "mimetype": "text/x-python",
   "name": "python",
   "nbconvert_exporter": "python",
   "pygments_lexer": "ipython3",
   "version": "3.6.3"
  }
 },
 "nbformat": 4,
 "nbformat_minor": 2
}
